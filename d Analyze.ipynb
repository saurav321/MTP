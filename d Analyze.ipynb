{
 "cells": [
  {
   "cell_type": "code",
   "execution_count": 1,
   "metadata": {
    "scrolled": true
   },
   "outputs": [],
   "source": [
    "import pandas as pd, os\n",
    "import matplotlib.pylab as plt\n",
    "import datetime\n",
    "import pandas as pd\n",
    "import numpy as np\n",
    "import seaborn as sns\n",
    "import os\n",
    "import scipy.stats as stats\n",
    "import researchpy as rp\n",
    "import statsmodels.api as sm"
   ]
  },
  {
   "cell_type": "code",
   "execution_count": 2,
   "metadata": {},
   "outputs": [],
   "source": [
    "df = pd.read_csv(f\"/home/sauravadhikari/MTP/data/Master_Final.csv\")\n",
    "df[\"Dept_Date_Time\"]=pd.to_datetime(df[\"Dept_Date_Time\"]) #parsing date to pandas.date\n",
    "df['Dept_Date'] = df['Dept_Date_Time'].dt.date"
   ]
  },
  {
   "cell_type": "code",
   "execution_count": 3,
   "metadata": {},
   "outputs": [],
   "source": [
    "def make_bucket(time):\n",
    "    assert(isinstance(time, datetime.datetime)), 'time should be of format datetime not str'\n",
    "    if time.time() >= datetime.time(18,0): return '06 PM - 12 AM'\n",
    "    elif time.time() >= datetime.time(12,0): return '12 PM - 06 PM'\n",
    "    elif time.time() >= datetime.time(6,0): return '06 AM - 12 PM'\n",
    "    elif time.time() >= datetime.time(0,0): return '00 AM - 06 AM'\n",
    "    else: raise ValueError(f'make_bucket couldnt find proper bucket for {time.time()}')\n",
    "df['Bucket'] = df['Dept_Date_Time'].apply(make_bucket)"
   ]
  },
  {
   "cell_type": "code",
   "execution_count": 4,
   "metadata": {},
   "outputs": [],
   "source": [
    "df.drop(columns=\"Dept_Date_Time\", inplace=True)\n",
    "df.drop(columns=\"Duration\", inplace=True)\n",
    "df.drop(columns=\"Flight Number\", inplace=True)\n",
    "df.drop(columns=\"Flight Code\", inplace=True)\n",
    "df.drop(columns=\"FlightID\", inplace=True)\n",
    "df.drop(columns=\"Taken_DT\", inplace=True)"
   ]
  },
  {
   "cell_type": "code",
   "execution_count": 5,
   "metadata": {},
   "outputs": [],
   "source": [
    "df['Dept_Date'] = pd.to_datetime(df['Dept_Date'])\n",
    "df['Taken'] = pd.to_datetime(df['Taken'])"
   ]
  },
  {
   "cell_type": "code",
   "execution_count": 6,
   "metadata": {},
   "outputs": [],
   "source": [
    "df['Days Before Departure'] = df['Dept_Date'] - df['Taken']"
   ]
  },
  {
   "cell_type": "code",
   "execution_count": null,
   "metadata": {},
   "outputs": [],
   "source": [
    "#df6.to_csv(f\"/home/sauravadhikari/MTP/data/Analyze2/BM1.csv\",index=None)\n",
    "\n",
    "Tymbs = ['00 AM - 06 AM','06 AM - 12 PM','12 PM - 06 PM','06 PM - 12 AM']\n",
    "#Tymbs = ['Air India','IndiGo','Spicejet','Jet Airways']\n",
    "Origs = ['BLR','BOM','DEL','GAU','COK', 'JAI']\n",
    "Dests = ['MAA','DEL', 'JAI', 'LKO', 'IMF', 'TRV']\n",
    "Types = ['Economy', 'Business']\n",
    "Dates = ['2018-12-15','2019-01-17']\n",
    "\n",
    "#df_temp = df5.copy()\n",
    "#df_temp['Days Before Departure'] = df_temp[\"Days Before Departure\"].apply(lambda t:t.days)\n",
    "#df6=pd.pivot_table(df_temp, index=[\"Days Before Departure\"], columns=[\"Airways\"], values=[\"Total_Fare\"], aggfunc='mean')"
   ]
  },
  {
   "cell_type": "code",
   "execution_count": null,
   "metadata": {},
   "outputs": [],
   "source": [
    "def make_color(n):\n",
    "    if n == \"Air India\": return 'Red'\n",
    "    elif n == \"IndiGo\": return 'Yellow'\n",
    "    elif n == \"Jet Airways\": return 'Green'\n",
    "    elif n == \"Spicejet\": return 'Blue'\n",
    "    elif n == \"00 AM - 06 AM\": return 'Blue'\n",
    "    elif n == \"06 AM - 12 PM\": return 'Red'\n",
    "    elif n == \"12 PM - 06 PM\": return 'Yellow'\n",
    "    elif n == \"06 PM - 12 AM\": return 'Green'\n",
    "    else: return 'Black'"
   ]
  },
  {
   "cell_type": "code",
   "execution_count": null,
   "metadata": {},
   "outputs": [],
   "source": [
    "def getPlot(df6,name):    \n",
    "    sns.set()  # use Seaborn styles\n",
    "    sns.set_context(\"paper\", font_scale=1.8)\n",
    "    #df_temp = df5.copy()\n",
    "    #df_temp['Days Before Departure'] = df_temp[\"Days Before Departure\"].apply(lambda t:t.days)\n",
    "    df6.plot(xlim=(0,90), figsize=(15,11), color = [make_color(airline) for airline in [x[-1] for x in list(df6)]])\n",
    "    plt.title(str(tym)+\": \"+str(o)+\"-\"+str(d)+\": \"+str(c)+\": \"+str(date), fontsize=30)\n",
    "    plt.xlabel('Days Before Departure', fontsize=20)\n",
    "    plt.ylabel('Total Fare', fontsize=20)\n",
    "    plt.legend(loc='upper right', labels=[x[-1] for x in list(df6)])\n",
    "    os.chdir(\"/home/sauravadhikari/MTP/Analysis2/figures\")\n",
    "    plt.savefig(name)"
   ]
  },
  {
   "cell_type": "code",
   "execution_count": null,
   "metadata": {},
   "outputs": [],
   "source": [
    "for tym in Tymbs:\n",
    "    df1=df.loc[df['Bucket']==tym]\n",
    "    for o in Origs:\n",
    "        df2=df1.loc[df1['Origin']==o]\n",
    "        for d in Dests:\n",
    "            df3 = df2.loc[df2['Destination']==d]\n",
    "            for c in Types:\n",
    "                df4 = df3.loc[df3['Class_Type']==c]\n",
    "                for date in Dates:\n",
    "                    df5 =df4.loc[df4['Dept_Date']==date]\n",
    "                    df_temp = df5.copy()\n",
    "                    df_temp['Days Before Departure'] = df_temp[\"Days Before Departure\"].apply(lambda t:t.days)\n",
    "                    df6=pd.pivot_table(df_temp, index=[\"Days Before Departure\"], columns=[\"Airways\"], \n",
    "                                       values=[\"Total_Fare\"], aggfunc='mean')\n",
    "                    if not df6.empty:\n",
    "                        getPlot(df6,tym+o+d+c+date)"
   ]
  },
  {
   "cell_type": "code",
   "execution_count": null,
   "metadata": {},
   "outputs": [],
   "source": [
    "#ABOVE CHANGE TYMBS\n",
    "def getPlot(df_,name):    \n",
    "    sns.set()  # use Seaborn styles\n",
    "    sns.set_context(\"paper\", font_scale=1.8)\n",
    "    #df_temp = df5.copy()\n",
    "    #df_temp['Days Before Departure'] = df_temp[\"Days Before Departure\"].apply(lambda t:t.days)\n",
    "    df6.plot(xlim=(0,90), figsize=(15,11), color = [make_color(airline) for airline in [x[-1] for x in list(df6)]])\n",
    "    plt.title(str(tym)+\": \"+str(o)+\"-\"+str(d)+\": \"+str(c)+\": \"+str(date), fontsize=30)\n",
    "    plt.xlabel('Days Before Departure', fontsize=20)\n",
    "    plt.ylabel('Total Fare', fontsize=20)\n",
    "    os.chdir(\"/home/sauravadhikari/MTP/Analysis2/figures2\")\n",
    "    plt.legend(loc='upper right', labels=[x[-1] for x in list(df6)])\n",
    "    plt.savefig(name)"
   ]
  },
  {
   "cell_type": "code",
   "execution_count": null,
   "metadata": {},
   "outputs": [],
   "source": [
    "for tym in Tymbs:\n",
    "    df1=df.loc[df['Airways']==tym]\n",
    "    for o in Origs:\n",
    "        df2=df1.loc[df1['Origin']==o]\n",
    "        for d in Dests:\n",
    "            df3 = df2.loc[df2['Destination']==d]\n",
    "            for c in Types:\n",
    "                df4 = df3.loc[df3['Class_Type']==c]\n",
    "                for date in Dates:\n",
    "                    df5 =df4.loc[df4['Dept_Date']==date]\n",
    "                    df_temp = df5.copy()\n",
    "                    df_temp['Days Before Departure'] = df_temp[\"Days Before Departure\"].apply(lambda t:t.days)\n",
    "                    df6=pd.pivot_table(df_temp, index=[\"Days Before Departure\"], columns=[\"Bucket\"], \n",
    "                                       values=[\"Total_Fare\"], aggfunc='mean')\n",
    "                    if not df6.empty:\n",
    "                        getPlot(df6,tym+o+d+c+date)"
   ]
  },
  {
   "cell_type": "code",
   "execution_count": null,
   "metadata": {},
   "outputs": [],
   "source": [
    "def getfiles(dfw):    \n",
    "    from statsmodels.formula.api import ols  \n",
    "    return(dfw)"
   ]
  },
  {
   "cell_type": "code",
   "execution_count": null,
   "metadata": {},
   "outputs": [],
   "source": [
    "for tym in Tymbs:\n",
    "    df1=df.loc[df['Bucket']==tym]\n",
    "    for o in Origs:\n",
    "        df2=df1.loc[df1['Origin']==o]\n",
    "        for d in Dests:\n",
    "            df3 = df2.loc[df2['Destination']==d]\n",
    "            for c in Types:\n",
    "                df4 = df3.loc[df3['Class_Type']==c]\n",
    "                for date in Dates:\n",
    "                    df5 =df4.loc[df4['Dept_Date']==date]\n",
    "                    df_temp = df5.copy()\n",
    "                    df_temp['Days Before Departure'] = df_temp[\"Days Before Departure\"].apply(lambda t:t.days)\n",
    "                    df6=pd.pivot_table(df_temp, index=[\"Days Before Departure\"], columns=[\"Airways\"], \n",
    "                                       values=[\"Total_Fare\"], aggfunc='mean')\n",
    "                    if not df6.empty:\n",
    "                        dfw1=getfiles(df6)\n",
    "                        dfw1.to_csv(f\"/home/sauravadhikari/MTP/Analysis2/files_test/\"+str(tym)+str(o)+str(d)+str(c)+str(date)+\".csv\")"
   ]
  },
  {
   "cell_type": "code",
   "execution_count": null,
   "metadata": {},
   "outputs": [],
   "source": [
    "for tym in Tymbs:\n",
    "    df1=df.loc[df['Bucket']==tym]\n",
    "    for o in Origs:\n",
    "        df2=df1.loc[df1['Origin']==o]\n",
    "        for d in Dests:\n",
    "            df3 = df2.loc[df2['Destination']==d]\n",
    "            for c in Types:\n",
    "                df4 = df3.loc[df3['Class_Type']==c]\n",
    "                for date in Dates:\n",
    "                    df5 =df4.loc[df4['Dept_Date']==date]\n",
    "                    df_temp = df5.copy()\n",
    "                    df_temp['Days Before Departure'] = df_temp[\"Days Before Departure\"].apply(lambda t:t.days)\n",
    "                    df6=pd.pivot_table(df_temp, index=[\"Days Before Departure\"], columns=[\"Airways\"], \n",
    "                                       values=[\"Total_Fare\"], aggfunc='mean')\n",
    "                    df6.columns = [col[1] for col in df6.columns]\n",
    "                    df6 = df6.fillna(0)\n",
    "                    df7 = df6.reset_index(0).reset_index(drop=True)\n",
    "                    df7.drop(columns=\"Days Before Departure\", inplace=True)\n",
    "                    from scipy import stats\n",
    "                    df7[(np.abs(stats.zscore(df7)) < 3).all(axis=1)]\n",
    "                    if not df7.empty:\n",
    "                        dfw1=getfiles(df7)\n",
    "                        dfw1.to_csv(f\"/home/sauravadhikari/MTP/Analysis2/files_otlr/\"+str(tym)+str(o)+str(d)+str(c)+str(date)+\".csv\")"
   ]
  },
  {
   "cell_type": "code",
   "execution_count": null,
   "metadata": {},
   "outputs": [],
   "source": [
    "#CHANGE TYMBS\n",
    "def getfiles(dfw):    \n",
    "    from statsmodels.formula.api import ols  \n",
    "    return(dfw)"
   ]
  },
  {
   "cell_type": "code",
   "execution_count": null,
   "metadata": {},
   "outputs": [],
   "source": [
    "for tym in Tymbs:\n",
    "    df1=df.loc[df['Airways']==tym]\n",
    "    for o in Origs:\n",
    "        df2=df1.loc[df1['Origin']==o]\n",
    "        for d in Dests:\n",
    "            df3 = df2.loc[df2['Destination']==d]\n",
    "            for c in Types:\n",
    "                df4 = df3.loc[df3['Class_Type']==c]\n",
    "                for date in Dates:\n",
    "                    df5 =df4.loc[df4['Dept_Date']==date]\n",
    "                    df_temp = df5.copy()\n",
    "                    df_temp['Days Before Departure'] = df_temp[\"Days Before Departure\"].apply(lambda t:t.days)\n",
    "                    df6=pd.pivot_table(df_temp, index=[\"Days Before Departure\"], columns=[\"Bucket\"], \n",
    "                                       values=[\"Total_Fare\"], aggfunc='mean')\n",
    "                    if not df6.empty:\n",
    "                        dfw1=getfiles(df6)\n",
    "                        dfw1.to_csv(f\"/home/sauravadhikari/MTP/Analysis2/files2/\"+str(tym)+str(o)+str(d)+str(c)+str(date)+\".csv\")"
   ]
  },
  {
   "cell_type": "code",
   "execution_count": null,
   "metadata": {},
   "outputs": [],
   "source": [
    "for tym in Tymbs:\n",
    "    df1=df.loc[df['Airways']==tym]\n",
    "    for o in Origs:\n",
    "        df2=df1.loc[df1['Origin']==o]\n",
    "        for d in Dests:\n",
    "            df3 = df2.loc[df2['Destination']==d]\n",
    "            for c in Types:\n",
    "                df4 = df3.loc[df3['Class_Type']==c]\n",
    "                for date in Dates:\n",
    "                    df5 =df4.loc[df4['Dept_Date']==date]\n",
    "                    df_temp = df5.copy()\n",
    "                    df_temp['Days Before Departure'] = df_temp[\"Days Before Departure\"].apply(lambda t:t.days)\n",
    "                    df6=pd.pivot_table(df_temp, index=[\"Days Before Departure\"], columns=[\"Bucket\"], \n",
    "                                       values=[\"Total_Fare\"], aggfunc='mean')\n",
    "                    df6.columns = [col[1] for col in df6.columns]\n",
    "                    df6 = df6.fillna(0)\n",
    "                    df7 = df6.reset_index(0).reset_index(drop=True)\n",
    "                    df7.drop(columns=\"Days Before Departure\", inplace=True)\n",
    "                    from scipy import stats\n",
    "                    df7[(np.abs(stats.zscore(df7)) < 3).all(axis=1)]\n",
    "                    if not df7.empty:\n",
    "                        dfw1=getfiles(df7)\n",
    "                        dfw1.to_csv(f\"/home/sauravadhikari/MTP/Analysis2/files2_otlr/\"+str(tym)+str(o)+str(d)+str(c)+str(date)+\".csv\")"
   ]
  },
  {
   "cell_type": "code",
   "execution_count": null,
   "metadata": {},
   "outputs": [],
   "source": [
    "# \"Fares are lower when purchased on the weekend\"\n",
    "# \"Fares on weekdays are less than the weekly averages of fares\""
   ]
  },
  {
   "cell_type": "code",
   "execution_count": null,
   "metadata": {},
   "outputs": [],
   "source": [
    "df.head()"
   ]
  },
  {
   "cell_type": "code",
   "execution_count": 7,
   "metadata": {},
   "outputs": [],
   "source": [
    "Tymbs = ['Air India','IndiGo','Spicejet','Jet Airways']\n",
    "Origs = ['BLR','BOM','DEL','GAU','COK', 'JAI']\n",
    "Dests = ['MAA','DEL', 'JAI', 'LKO', 'IMF', 'TRV']\n",
    "Types = ['Economy', 'Business']\n",
    "Dates = ['2018-12-15','2019-01-17']"
   ]
  },
  {
   "cell_type": "code",
   "execution_count": null,
   "metadata": {},
   "outputs": [],
   "source": [
    "def getano(dfo1):    \n",
    "    from scipy import stats\n",
    "    return(dfo1)"
   ]
  },
  {
   "cell_type": "code",
   "execution_count": null,
   "metadata": {},
   "outputs": [],
   "source": [
    "#TAKEN WEEKDAY\n",
    "for tym in Tymbs:\n",
    "    df1=df.loc[df['Airways']==tym]\n",
    "    for o in Origs:\n",
    "        df2=df1.loc[df1['Origin']==o]\n",
    "        for d in Dests:\n",
    "            df3 = df2.loc[df2['Destination']==d]\n",
    "            for c in Types:\n",
    "                df4 = df3.loc[df3['Class_Type']==c]\n",
    "                df_temp = df4.copy()\n",
    "                df_temp['Days Before Departure'] = df_temp[\"Days Before Departure\"].apply(lambda t:t.days)\n",
    "                df7 = pd.pivot_table(df_temp, index=[\"Days Before Departure\"],columns=[\"Taken_Day\"], values=[\"Total_Fare\"], aggfunc='mean')\n",
    "                df7.columns = [col[1] for col in df7.columns] #REMOVES MULTIINDEX\n",
    "                df7 = df7.fillna(0) #FILLS NA VALUES AS 0\n",
    "                df8 = df7.reset_index(0).reset_index(drop=True)\n",
    "                if not df8.empty:\n",
    "                    df9 = df8[(df8['Days Before Departure'] >= 1) & (df8['Days Before Departure'] <= 21)]\n",
    "                    df9.drop(columns=\"Days Before Departure\", inplace=True)\n",
    "                    from scipy import stats\n",
    "                    df9[(np.abs(stats.zscore(df9)) < 3).all(axis=1)]\n",
    "                    dfo1=getano(df9)\n",
    "                    \n",
    "                    dfo1.to_csv(f\"/home/sauravadhikari/MTP/Analysis2/anova2/\"+str(tym)+str(o)+str(d)+str(c)+\".csv\")"
   ]
  },
  {
   "cell_type": "code",
   "execution_count": null,
   "metadata": {},
   "outputs": [],
   "source": [
    "#DEPARTURE WEEKDAY\n",
    "for tym in Tymbs:\n",
    "    df1=df.loc[df['Airways']==tym]\n",
    "    for o in Origs:\n",
    "        df2=df1.loc[df1['Origin']==o]\n",
    "        for d in Dests:\n",
    "            df3 = df2.loc[df2['Destination']==d]\n",
    "            for c in Types:\n",
    "                df4 = df3.loc[df3['Class_Type']==c]\n",
    "                df_temp = df4.copy()\n",
    "                df_temp['Days Before Departure'] = df_temp[\"Days Before Departure\"].apply(lambda t:t.days)\n",
    "                df7 = pd.pivot_table(df_temp, index=[\"Days Before Departure\"],columns=[\"Dept_Weekday\"], values=[\"Total_Fare\"], aggfunc='mean')\n",
    "                df7.columns = [col[1] for col in df7.columns]\n",
    "                df7 = df7.fillna(0)\n",
    "                df8 = df7.reset_index(0).reset_index(drop=True)\n",
    "                if not df8.empty:\n",
    "                    df9 = df8[(df8['Days Before Departure'] >= 1) & (df8['Days Before Departure'] <= 21)]\n",
    "                    df9.drop(columns=\"Days Before Departure\", inplace=True)\n",
    "                    from scipy import stats\n",
    "                    df9[(np.abs(stats.zscore(df9)) < 3).all(axis=1)]\n",
    "                    dfo1=getano(df9)\n",
    "                    dfo1.to_csv(f\"/home/sauravadhikari/MTP/Analysis2/anova2fordepart2/\"+str(tym)+str(o)+str(d)+str(c)+\".csv\")"
   ]
  },
  {
   "cell_type": "code",
   "execution_count": 8,
   "metadata": {},
   "outputs": [],
   "source": [
    "#FOR VARINACES IN 90 DAYS\n",
    "def getano(df_final2):    \n",
    "    from scipy import stats\n",
    "    return(df_final2)"
   ]
  },
  {
   "cell_type": "code",
   "execution_count": null,
   "metadata": {},
   "outputs": [],
   "source": [
    "#IN A SINGLE FILE\n",
    "df_final2 = pd.DataFrame()\n",
    "for tym in Tymbs:\n",
    "    df1=df.loc[df['Airways']==tym]\n",
    "    for o in Origs:\n",
    "        df2=df1.loc[df1['Origin']==o]\n",
    "        for d in Dests:\n",
    "            df3 = df2.loc[df2['Destination']==d]\n",
    "            for c in Types:\n",
    "                df4 = df3.loc[df3['Class_Type']==c]\n",
    "                df_temp = df4.copy()\n",
    "                df_temp['Days Before Departure'] = df_temp[\"Days Before Departure\"].apply(lambda t:t.days)\n",
    "                df7 = pd.pivot_table(df_temp, index=[\"Days Before Departure\"], values=[\"Total_Fare\"], aggfunc='mean')\n",
    "                #df7.columns = [col[1] for col in df7.columns]\n",
    "                df7 = df7.fillna(0)\n",
    "                df8 = df7.reset_index(0).reset_index(drop=True)\n",
    "                #df8.drop(columns=\"Days Before Departure\", inplace=True)\n",
    "                #from scipy import stats\n",
    "                #df8[(np.abs(stats.zscore(df8)) < 3).all(axis=1)]\n",
    "                if not df8.empty:\n",
    "                    dfo1=getano(df8)\n",
    "                    df9 = df8[(df8['Days Before Departure'] >= 1) & (df8['Days Before Departure'] <= 21)]\n",
    "                    df10 = df8[(df8['Days Before Departure'] >= 22) & (df8['Days Before Departure'] <= 90)]\n",
    "                    c=str(tym)+str(o)+str(d)+str(c)\n",
    "                    a=df9['Total_Fare'].std()\n",
    "                    b=df10['Total_Fare'].std()\n",
    "                    df_final2=df_final2.append({\"Itinerary\":c,\"1-21\":a,\"22-90\":b},ignore_index=True)\n",
    "                    df_final2.to_csv(f\"/home/sauravadhikari/MTP/Analysis2/variance3weeks.csv\")"
   ]
  },
  {
   "cell_type": "code",
   "execution_count": 12,
   "metadata": {},
   "outputs": [],
   "source": [
    "for tym in Tymbs:\n",
    "    df1=df.loc[df['Airways']==tym]\n",
    "    for o in Origs:\n",
    "        df2=df1.loc[df1['Origin']==o]\n",
    "        for d in Dests:\n",
    "            df3 = df2.loc[df2['Destination']==d]\n",
    "            for c in Types:\n",
    "                df4 = df3.loc[df3['Class_Type']==c]\n",
    "                for date in Dates:\n",
    "                    df5 =df4.loc[df4['Dept_Date']==date]\n",
    "                    df_temp = df5.copy()\n",
    "                    df_temp['Days Before Departure'] = df_temp[\"Days Before Departure\"].apply(lambda t:t.days)\n",
    "                    df7 = pd.pivot_table(df_temp, index=[\"Days Before Departure\"], values=[\"Total_Fare\"], aggfunc='mean')\n",
    "                    #df7.columns = [col[1] for col in df7.columns]\n",
    "                    df7 = df7.fillna(0)\n",
    "                    df8 = df7.reset_index(0).reset_index(drop=True)\n",
    "                    #df8.drop(columns=\"Days Before Departure\", inplace=True)\n",
    "                    #from scipy import stats\n",
    "                    #df8[(np.abs(stats.zscore(df8)) < 3).all(axis=1)]\n",
    "                    if not df8.empty:\n",
    "                        dfo1=getano(df8)\n",
    "                        df9 = df8[(df8['Days Before Departure'] >= 1) & (df8['Days Before Departure'] <= 21)]\n",
    "                        df9.columns = ['Days Before Departure', '01 to 21']\n",
    "                        df10 = df8[(df8['Days Before Departure'] >= 22) & (df8['Days Before Departure'] <= 90)]\n",
    "                        df10.columns = ['Days Before Departure', '22 to 90']\n",
    "                        df_all_rows = pd.concat([df9, df10],axis=1)\n",
    "                        df_all_rows = df_all_rows.fillna(\"*\")\n",
    "                        #df_all_rows.drop(columns=\"Days Before Departure\", inplace=True)\n",
    "                        df_all_rows.to_csv(f\"/home/sauravadhikari/MTP/Analysis2/variance/\"+str(tym)+str(o)+str(d)+str(c)+str(date)+\".csv\")"
   ]
  },
  {
   "cell_type": "code",
   "execution_count": null,
   "metadata": {},
   "outputs": [],
   "source": [
    "df_final = pd.DataFrame()\n",
    "df1=df.loc[df['Airways']==\"IndiGo\"]\n",
    "df2=df1.loc[df1['Origin']==\"BOM\"]\n",
    "df3 = df2.loc[df2['Destination']==\"DEL\"]\n",
    "df4 = df3.loc[df3['Class_Type']==\"Economy\"]\n",
    "df_temp = df4.copy()\n",
    "df_temp['Days Before Departure'] = df_temp[\"Days Before Departure\"].apply(lambda t:t.days)\n",
    "df7 = pd.pivot_table(df_temp, index=[\"Days Before Departure\"], values=[\"Total_Fare\"], aggfunc='mean')\n",
    "#df7.columns = [col[1] for col in df7.columns]\n",
    "df7 = df7.fillna(0)\n",
    "df8 = df7.reset_index(0).reset_index(drop=True)\n",
    "#df8.drop(columns=\"Days Before Departure\", inplace=True)\n",
    "df9 = df8[(df8['Days Before Departure'] >= 1) & (df8['Days Before Departure'] <= 14)]\n",
    "df10 = df8[(df8['Days Before Departure'] >= 15) & (df8['Days Before Departure'] <= 90)]\n",
    "a=df9['Total_Fare']\n",
    "b=df10['Total_Fare']\n",
    "c=\"abc\"\n",
    "df_final=df_final.append({\"Itinerary\":c,\"1-4\":a,\"234\":b},ignore_index=True)\n",
    "\n",
    "# from scipy import stats\n",
    "# df9[(np.abs(stats.zscore(df9)) < 3).all(axis=1)]\n",
    "# dfo1=getano(df9)\n",
    "# dfo1.to_csv(f\"/home/sauravadhikari/MTP/Analysis2/variances/abcd.csv\")"
   ]
  },
  {
   "cell_type": "code",
   "execution_count": null,
   "metadata": {},
   "outputs": [],
   "source": [
    "df_final = pd.DataFrame()\n",
    "df1=df.loc[df['Airways']==\"IndiGo\"]\n",
    "df2=df1.loc[df1['Origin']==\"BOM\"]\n",
    "df3 = df2.loc[df2['Destination']==\"DEL\"]\n",
    "df4 = df3.loc[df3['Class_Type']==\"Economy\"]\n",
    "df_temp = df4.copy()\n",
    "df_temp['Days Before Departure'] = df_temp[\"Days Before Departure\"].apply(lambda t:t.days)\n",
    "df7 = pd.pivot_table(df_temp, index=[\"Days Before Departure\"], values=[\"Total_Fare\"], aggfunc='mean')\n",
    "#df7.columns = [col[1] for col in df7.columns]\n",
    "df7 = df7.fillna(0)\n",
    "df8 = df7.reset_index(0).reset_index(drop=True)\n",
    "#df8.drop(columns=\"Days Before Departure\", inplace=True)\n",
    "df9 = df8[(df8['Days Before Departure'] >= 1) & (df8['Days Before Departure'] <= 21)]\n",
    "df9.columns = ['Days Before Departure', '01 to 21']\n",
    "df10 = df8[(df8['Days Before Departure'] >= 22) & (df8['Days Before Departure'] <= 90)]\n",
    "df10.columns = ['Days Before Departure', '22 to 90']\n",
    "# a=df9['Total_Fare']\n",
    "# b=df10['Total_Fare']\n",
    "# c=\"abc\"\n",
    "# df_final=df_final.append({\"Itinerary\":c,\"1-4\":a,\"234\":b},ignore_index=True)\n",
    "df_all_rows = pd.concat([df9, df10],axis=1)\n",
    "df_all_rows = df_all_rows.fillna(0)\n",
    "df_all_rows.drop(columns=\"Days Before Departure\", inplace=True)\n",
    "# from scipy import stats\n",
    "# df9[(np.abs(stats.zscore(df9)) < 3).all(axis=1)]\n",
    "# dfo1=getano(df9)\n",
    "# dfo1.to_csv(f\"/home/sauravadhikari/MTP/Analysis2/variances/abcd.csv\")"
   ]
  },
  {
   "cell_type": "code",
   "execution_count": null,
   "metadata": {},
   "outputs": [],
   "source": [
    "df.head()"
   ]
  },
  {
   "cell_type": "code",
   "execution_count": null,
   "metadata": {},
   "outputs": [],
   "source": [
    "df1=df.loc[df['Airways']==\"Air India\"]\n",
    "df2=df1.loc[df1['Origin']==\"BOM\"]\n",
    "df3 = df2.loc[df2['Destination']==\"DEL\"]\n",
    "df4 = df3.loc[df3['Class_Type']==\"Business\"]\n",
    "df_temp = df4.copy()\n",
    "df_temp['Days Before Departure'] = df_temp[\"Days Before Departure\"].apply(lambda t:t.days)\n",
    "df7 = pd.pivot_table(df_temp, index=[\"Days Before Departure\"],columns=[\"Taken_Day\"], values=[\"Total_Fare\"], aggfunc='mean')\n",
    "df7.columns = [col[1] for col in df7.columns] #REMOVES MULTIINDEX\n",
    "df7 = df7.fillna(0) #FILLS NA VALUES AS 0\n",
    "df8 = df7.reset_index(0).reset_index(drop=True)\n",
    "df9 = df8[(df8['Days Before Departure'] >= 1) & (df8['Days Before Departure'] <= 21)]\n",
    "# df9.drop(columns=\"Days Before Departure\", inplace=True)\n",
    "# from scipy import stats\n",
    "# df9[(np.abs(stats.zscore(df9)) < 3).all(axis=1)]"
   ]
  },
  {
   "cell_type": "code",
   "execution_count": null,
   "metadata": {},
   "outputs": [],
   "source": [
    "df9.head()"
   ]
  },
  {
   "cell_type": "code",
   "execution_count": null,
   "metadata": {},
   "outputs": [],
   "source": []
  }
 ],
 "metadata": {
  "kernelspec": {
   "display_name": "Python 3",
   "language": "python",
   "name": "python3"
  },
  "language_info": {
   "codemirror_mode": {
    "name": "ipython",
    "version": 3
   },
   "file_extension": ".py",
   "mimetype": "text/x-python",
   "name": "python",
   "nbconvert_exporter": "python",
   "pygments_lexer": "ipython3",
   "version": "3.6.6"
  }
 },
 "nbformat": 4,
 "nbformat_minor": 1
}
