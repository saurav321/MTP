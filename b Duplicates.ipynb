{
 "cells": [
  {
   "cell_type": "code",
   "execution_count": 5,
   "metadata": {},
   "outputs": [],
   "source": [
    "import pandas as pd, os"
   ]
  },
  {
   "cell_type": "code",
   "execution_count": 6,
   "metadata": {},
   "outputs": [],
   "source": [
    "fileNames=[fileName for fileName in os.listdir(\"data/data_raw\") if (os.path.isfile(f\"data/data_raw/{fileName}\") and \n",
    "                                                                    not os.path.exists(f\"data/data_cleaned/{fileName}\"))]"
   ]
  },
  {
   "cell_type": "code",
   "execution_count": 7,
   "metadata": {},
   "outputs": [],
   "source": [
    "def  cleanFile(fileName, outFileName):\n",
    "    df = pd.read_csv(file_name)\n",
    "    df=df.drop_duplicates()\n",
    "    df=df[df[\"Taken\"]!=\"Taken\"]\n",
    "    df=df[df[\"Dept_Date\"].map(len)>10]  #removing entries that only had date and no time\n",
    "    dept_date_time=pd.to_datetime(df[\"Dept_Date\"], format=\"%Y-%m-%dT%H:%M:%SZ\") #parsing date to pandas.date\n",
    "    df.insert(2, \"Dept_Date_Time\", dept_date_time)\n",
    "    df[\"Dept_Date\"]=df[\"Dept_Date_Time\"].dt.date\n",
    "#   df[\"Dept_Time\"]=pd.to_datetime(df[\"Dept_Time\"], format=\"%H:%M\") #Don't Need this \n",
    "#   df.drop(columns=\"Dept_Time\", inplace=True)\n",
    "    df.drop(columns=\"Available\", inplace=True)\n",
    "    df.drop(columns=\"Hopping\", inplace=True)\n",
    "    df[\"Duration\"]=pd.to_timedelta(df[\"Duration\"])\n",
    "    df[\"Arr_Time\"]=df[\"Dept_Date_Time\"]+df[\"Duration\"]\n",
    "    df=df[df[\"Duration\"]<pd.to_timedelta(\"03:00:00\")]\n",
    "    dept_weekday=df[\"Dept_Date_Time\"].apply(lambda x:x.weekday_name)\n",
    "    df.insert(5, \"Dept_Weekday\", dept_weekday) #adding dept_weekday at column 4\n",
    "    \n",
    "    taken_date_time=pd.to_datetime(df[\"Taken\"], format=\"%Y-%m-%d\")\n",
    "    df['Taken_DT'] = taken_date_time\n",
    "    taken_weekday=df[\"Taken_DT\"].apply(lambda x:x.weekday_name)\n",
    "    df['Taken_Day'] = taken_weekday\n",
    "    \n",
    "   # dura=pd.to_timedelta(df['Duration'])\n",
    "   # df['Duration_N'] = dura\n",
    "    \n",
    "    airlines_to_drop=[\"AirAsia\",\"Go Air\", \"Vistara\", \"Spicejet HBag Only\"]\n",
    "    for airline in airlines_to_drop:\n",
    "        df=df[df[\"Airways\"]!=airline]\n",
    "    # Write the results to a different file\n",
    "    df.to_csv(file_name_output, index=False)\n",
    "    return None"
   ]
  },
  {
   "cell_type": "code",
   "execution_count": 8,
   "metadata": {},
   "outputs": [],
   "source": [
    "for fileName in fileNames:\n",
    "    file_name = f\"data/data_raw/{fileName}\"\n",
    "    file_name_output = f\"data/data_cleaned/{fileName}\"\n",
    "    cleanFile(file_name, file_name_output)"
   ]
  }
 ],
 "metadata": {
  "kernelspec": {
   "display_name": "Python 3",
   "language": "python",
   "name": "python3"
  },
  "language_info": {
   "codemirror_mode": {
    "name": "ipython",
    "version": 3
   },
   "file_extension": ".py",
   "mimetype": "text/x-python",
   "name": "python",
   "nbconvert_exporter": "python",
   "pygments_lexer": "ipython3",
   "version": "3.6.6"
  }
 },
 "nbformat": 4,
 "nbformat_minor": 2
}
