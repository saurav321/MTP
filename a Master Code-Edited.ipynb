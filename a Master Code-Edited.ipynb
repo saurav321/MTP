{
 "cells": [
  {
   "cell_type": "code",
   "execution_count": 1,
   "metadata": {
    "scrolled": false
   },
   "outputs": [
    {
     "name": "stderr",
     "output_type": "stream",
     "text": [
      "\r",
      "  0%|          | 0/1086 [00:00<?, ?it/s]"
     ]
    },
    {
     "name": "stdout",
     "output_type": "stream",
     "text": [
      "There was an ERROR: Probably your internet connection                   isn't working\n"
     ]
    },
    {
     "name": "stderr",
     "output_type": "stream",
     "text": [
      "  4%|▍         | 48/1086 [00:39<06:17,  2.75it/s]  "
     ]
    },
    {
     "name": "stdout",
     "output_type": "stream",
     "text": [
      "There was an ERROR: Probably your internet connection                   isn't working\n"
     ]
    },
    {
     "name": "stderr",
     "output_type": "stream",
     "text": [
      " 14%|█▎        | 149/1086 [02:20<59:36,  3.82s/it]  "
     ]
    },
    {
     "name": "stdout",
     "output_type": "stream",
     "text": [
      "There was an ERROR: Probably your internet connection                   isn't working\n"
     ]
    },
    {
     "name": "stderr",
     "output_type": "stream",
     "text": [
      " 15%|█▌        | 163/1086 [02:21<08:52,  1.73it/s]"
     ]
    },
    {
     "name": "stdout",
     "output_type": "stream",
     "text": [
      "There was an ERROR: Probably your internet connection                   isn't working\n"
     ]
    },
    {
     "name": "stderr",
     "output_type": "stream",
     "text": [
      " 15%|█▌        | 167/1086 [02:22<04:39,  3.29it/s]"
     ]
    },
    {
     "name": "stdout",
     "output_type": "stream",
     "text": [
      "There was an ERROR: Probably your internet connection                   isn't working\n",
      "There was an ERROR: Probably your internet connection                   isn't working\n"
     ]
    },
    {
     "name": "stderr",
     "output_type": "stream",
     "text": [
      " 17%|█▋        | 180/1086 [02:23<01:58,  7.61it/s]"
     ]
    },
    {
     "name": "stdout",
     "output_type": "stream",
     "text": [
      "There was an ERROR: Probably your internet connection                   isn't working\n",
      "There was an ERROR: Probably your internet connection                   isn't working\n"
     ]
    },
    {
     "name": "stderr",
     "output_type": "stream",
     "text": [
      "\r",
      " 17%|█▋        | 182/1086 [02:23<01:37,  9.23it/s]"
     ]
    },
    {
     "name": "stdout",
     "output_type": "stream",
     "text": [
      "There was an ERROR: Probably your internet connection                   isn't working\n"
     ]
    },
    {
     "name": "stderr",
     "output_type": "stream",
     "text": [
      " 17%|█▋        | 186/1086 [02:24<01:30,  9.97it/s]"
     ]
    },
    {
     "name": "stdout",
     "output_type": "stream",
     "text": [
      "There was an ERROR: Probably your internet connection                   isn't working\n"
     ]
    },
    {
     "name": "stderr",
     "output_type": "stream",
     "text": [
      "\r",
      " 17%|█▋        | 188/1086 [02:24<01:29, 10.02it/s]"
     ]
    },
    {
     "name": "stdout",
     "output_type": "stream",
     "text": [
      "There was an ERROR: Probably your internet connection                   isn't working\n"
     ]
    },
    {
     "name": "stderr",
     "output_type": "stream",
     "text": [
      "\r",
      " 17%|█▋        | 190/1086 [02:25<03:01,  4.93it/s]"
     ]
    },
    {
     "name": "stdout",
     "output_type": "stream",
     "text": [
      "There was an ERROR: Probably your internet connection                   isn't working\n"
     ]
    },
    {
     "name": "stderr",
     "output_type": "stream",
     "text": [
      "\r",
      " 18%|█▊        | 191/1086 [02:26<05:05,  2.93it/s]"
     ]
    },
    {
     "name": "stdout",
     "output_type": "stream",
     "text": [
      "There was an ERROR: Probably your internet connection                   isn't working\n"
     ]
    },
    {
     "name": "stderr",
     "output_type": "stream",
     "text": [
      "\r",
      " 18%|█▊        | 192/1086 [02:27<09:51,  1.51it/s]"
     ]
    },
    {
     "name": "stdout",
     "output_type": "stream",
     "text": [
      "There was an ERROR: Probably your internet connection                   isn't working\n"
     ]
    },
    {
     "name": "stderr",
     "output_type": "stream",
     "text": [
      "\r",
      " 18%|█▊        | 193/1086 [02:28<11:31,  1.29it/s]"
     ]
    },
    {
     "name": "stdout",
     "output_type": "stream",
     "text": [
      "There was an ERROR: Probably your internet connection                   isn't working\n"
     ]
    },
    {
     "name": "stderr",
     "output_type": "stream",
     "text": [
      "\r",
      " 18%|█▊        | 194/1086 [02:34<36:17,  2.44s/it]"
     ]
    },
    {
     "name": "stdout",
     "output_type": "stream",
     "text": [
      "There was an ERROR: Probably your internet connection                   isn't working\n"
     ]
    },
    {
     "name": "stderr",
     "output_type": "stream",
     "text": [
      "\r",
      " 18%|█▊        | 195/1086 [02:39<44:50,  3.02s/it]"
     ]
    },
    {
     "name": "stdout",
     "output_type": "stream",
     "text": [
      "There was an ERROR: Probably your internet connection                   isn't working\n"
     ]
    },
    {
     "name": "stderr",
     "output_type": "stream",
     "text": [
      "\r",
      " 18%|█▊        | 196/1086 [02:45<59:45,  4.03s/it]"
     ]
    },
    {
     "name": "stdout",
     "output_type": "stream",
     "text": [
      "There was an ERROR: Probably your internet connection                   isn't working\n"
     ]
    },
    {
     "name": "stderr",
     "output_type": "stream",
     "text": [
      "\r",
      " 18%|█▊        | 197/1086 [02:54<1:19:34,  5.37s/it]"
     ]
    },
    {
     "name": "stdout",
     "output_type": "stream",
     "text": [
      "There was an ERROR: Probably your internet connection                   isn't working\n"
     ]
    },
    {
     "name": "stderr",
     "output_type": "stream",
     "text": [
      "\r",
      " 18%|█▊        | 198/1086 [02:55<1:00:30,  4.09s/it]"
     ]
    },
    {
     "name": "stdout",
     "output_type": "stream",
     "text": [
      "There was an ERROR: Probably your internet connection                   isn't working\n"
     ]
    },
    {
     "name": "stderr",
     "output_type": "stream",
     "text": [
      "\r",
      " 18%|█▊        | 199/1086 [02:55<44:48,  3.03s/it]  "
     ]
    },
    {
     "name": "stdout",
     "output_type": "stream",
     "text": [
      "There was an ERROR: Probably your internet connection                   isn't working\n",
      "There was an ERROR: Probably your internet connection                   isn't working\n"
     ]
    },
    {
     "name": "stderr",
     "output_type": "stream",
     "text": [
      "\r",
      " 19%|█▊        | 201/1086 [02:56<32:03,  2.17s/it]"
     ]
    },
    {
     "name": "stdout",
     "output_type": "stream",
     "text": [
      "There was an ERROR: Probably your internet connection                   isn't working\n"
     ]
    },
    {
     "name": "stderr",
     "output_type": "stream",
     "text": [
      "\r",
      " 19%|█▊        | 202/1086 [02:56<23:00,  1.56s/it]"
     ]
    },
    {
     "name": "stdout",
     "output_type": "stream",
     "text": [
      "There was an ERROR: Probably your internet connection                   isn't working\n",
      "There was an ERROR: Probably your internet connection                   isn't working\n"
     ]
    },
    {
     "name": "stderr",
     "output_type": "stream",
     "text": [
      "\r",
      " 19%|█▉        | 204/1086 [02:56<16:23,  1.11s/it]"
     ]
    },
    {
     "name": "stdout",
     "output_type": "stream",
     "text": [
      "There was an ERROR: Probably your internet connection                   isn't working\n",
      "There was an ERROR: Probably your internet connection                   isn't working\n"
     ]
    },
    {
     "name": "stderr",
     "output_type": "stream",
     "text": [
      "\r",
      " 19%|█▉        | 206/1086 [02:56<12:30,  1.17it/s]"
     ]
    },
    {
     "name": "stdout",
     "output_type": "stream",
     "text": [
      "There was an ERROR: Probably your internet connection                   isn't working\n",
      "There was an ERROR: Probably your internet connection                   isn't working\n",
      "There was an ERROR: Probably your internet connection                   isn't working\n"
     ]
    },
    {
     "name": "stderr",
     "output_type": "stream",
     "text": [
      "\r",
      " 19%|█▉        | 209/1086 [02:57<09:22,  1.56it/s]"
     ]
    },
    {
     "name": "stdout",
     "output_type": "stream",
     "text": [
      "There was an ERROR: Probably your internet connection                   isn't working\n",
      "There was an ERROR: Probably your internet connection                   isn't working\n"
     ]
    },
    {
     "name": "stderr",
     "output_type": "stream",
     "text": [
      "\r",
      " 19%|█▉        | 211/1086 [02:57<07:08,  2.04it/s]"
     ]
    },
    {
     "name": "stdout",
     "output_type": "stream",
     "text": [
      "There was an ERROR: Probably your internet connection                   isn't working\n",
      "There was an ERROR: Probably your internet connection                   isn't working\n",
      "There was an ERROR: Probably your internet connection                   isn't working\n"
     ]
    },
    {
     "name": "stderr",
     "output_type": "stream",
     "text": [
      "\r",
      " 20%|█▉        | 214/1086 [02:57<05:31,  2.63it/s]"
     ]
    },
    {
     "name": "stdout",
     "output_type": "stream",
     "text": [
      "There was an ERROR: Probably your internet connection                   isn't working\n",
      "There was an ERROR: Probably your internet connection                   isn't working\n"
     ]
    },
    {
     "name": "stderr",
     "output_type": "stream",
     "text": [
      "\r",
      " 20%|█▉        | 216/1086 [02:58<04:17,  3.38it/s]"
     ]
    },
    {
     "name": "stdout",
     "output_type": "stream",
     "text": [
      "There was an ERROR: Probably your internet connection                   isn't working\n",
      "There was an ERROR: Probably your internet connection                   isn't working\n"
     ]
    },
    {
     "name": "stderr",
     "output_type": "stream",
     "text": [
      "\r",
      " 20%|██        | 218/1086 [02:58<03:27,  4.18it/s]"
     ]
    },
    {
     "name": "stdout",
     "output_type": "stream",
     "text": [
      "There was an ERROR: Probably your internet connection                   isn't working\n",
      "There was an ERROR: Probably your internet connection                   isn't working\n"
     ]
    },
    {
     "name": "stderr",
     "output_type": "stream",
     "text": [
      "\r",
      " 20%|██        | 220/1086 [02:58<03:10,  4.54it/s]"
     ]
    },
    {
     "name": "stdout",
     "output_type": "stream",
     "text": [
      "There was an ERROR: Probably your internet connection                   isn't working\n"
     ]
    },
    {
     "name": "stderr",
     "output_type": "stream",
     "text": [
      "\r",
      " 20%|██        | 221/1086 [02:58<02:54,  4.96it/s]"
     ]
    },
    {
     "name": "stdout",
     "output_type": "stream",
     "text": [
      "There was an ERROR: Probably your internet connection                   isn't working\n",
      "There was an ERROR: Probably your internet connection                   isn't working\n"
     ]
    },
    {
     "name": "stderr",
     "output_type": "stream",
     "text": [
      "\r",
      " 21%|██        | 223/1086 [02:59<02:22,  6.07it/s]"
     ]
    },
    {
     "name": "stdout",
     "output_type": "stream",
     "text": [
      "There was an ERROR: Probably your internet connection                   isn't working\n",
      "There was an ERROR: Probably your internet connection                   isn't working\n",
      "There was an ERROR: Probably your internet connection                   isn't working\n",
      "There was an ERROR: Probably your internet connection                   isn't working\n"
     ]
    },
    {
     "name": "stderr",
     "output_type": "stream",
     "text": [
      "\r",
      " 21%|██        | 227/1086 [02:59<01:57,  7.32it/s]"
     ]
    },
    {
     "name": "stdout",
     "output_type": "stream",
     "text": [
      "There was an ERROR: Probably your internet connection                   isn't working\n",
      "There was an ERROR: Probably your internet connection                   isn't working\n",
      "There was an ERROR: Probably your internet connection                   isn't working\n"
     ]
    },
    {
     "name": "stderr",
     "output_type": "stream",
     "text": [
      "\r",
      " 21%|██        | 230/1086 [02:59<01:37,  8.80it/s]"
     ]
    },
    {
     "name": "stdout",
     "output_type": "stream",
     "text": [
      "There was an ERROR: Probably your internet connection                   isn't working\n",
      "There was an ERROR: Probably your internet connection                   isn't working\n"
     ]
    },
    {
     "name": "stderr",
     "output_type": "stream",
     "text": [
      "\r",
      " 21%|██▏       | 232/1086 [02:59<01:45,  8.12it/s]"
     ]
    },
    {
     "name": "stdout",
     "output_type": "stream",
     "text": [
      "There was an ERROR: Probably your internet connection                   isn't working\n",
      "There was an ERROR: Probably your internet connection                   isn't working\n"
     ]
    },
    {
     "name": "stderr",
     "output_type": "stream",
     "text": [
      "\r",
      " 22%|██▏       | 234/1086 [02:59<01:26,  9.84it/s]"
     ]
    },
    {
     "name": "stdout",
     "output_type": "stream",
     "text": [
      "There was an ERROR: Probably your internet connection                   isn't working\n",
      "There was an ERROR: Probably your internet connection                   isn't working\n",
      "There was an ERROR: Probably your internet connection                   isn't working\n"
     ]
    },
    {
     "name": "stderr",
     "output_type": "stream",
     "text": [
      "\r",
      " 22%|██▏       | 237/1086 [03:00<02:31,  5.62it/s]"
     ]
    },
    {
     "name": "stdout",
     "output_type": "stream",
     "text": [
      "There was an ERROR: Probably your internet connection                   isn't working\n",
      "There was an ERROR: Probably your internet connection                   isn't working\n"
     ]
    },
    {
     "name": "stderr",
     "output_type": "stream",
     "text": [
      "\r",
      " 22%|██▏       | 239/1086 [03:02<05:16,  2.68it/s]"
     ]
    },
    {
     "name": "stdout",
     "output_type": "stream",
     "text": [
      "There was an ERROR: Probably your internet connection                   isn't working\n"
     ]
    },
    {
     "name": "stderr",
     "output_type": "stream",
     "text": [
      "\r",
      " 22%|██▏       | 240/1086 [03:02<04:16,  3.30it/s]"
     ]
    },
    {
     "name": "stdout",
     "output_type": "stream",
     "text": [
      "There was an ERROR: Probably your internet connection                   isn't working\n"
     ]
    },
    {
     "name": "stderr",
     "output_type": "stream",
     "text": [
      "\r",
      " 22%|██▏       | 241/1086 [03:04<10:08,  1.39it/s]"
     ]
    },
    {
     "name": "stdout",
     "output_type": "stream",
     "text": [
      "There was an ERROR: Probably your internet connection                   isn't working\n"
     ]
    },
    {
     "name": "stderr",
     "output_type": "stream",
     "text": [
      "\r",
      " 22%|██▏       | 242/1086 [03:10<31:58,  2.27s/it]"
     ]
    },
    {
     "name": "stdout",
     "output_type": "stream",
     "text": [
      "There was an ERROR: Probably your internet connection                   isn't working\n"
     ]
    },
    {
     "name": "stderr",
     "output_type": "stream",
     "text": [
      "\r",
      " 22%|██▏       | 243/1086 [03:13<34:47,  2.48s/it]"
     ]
    },
    {
     "name": "stdout",
     "output_type": "stream",
     "text": [
      "There was an ERROR: Probably your internet connection                   isn't working\n"
     ]
    },
    {
     "name": "stderr",
     "output_type": "stream",
     "text": [
      "\r",
      " 22%|██▏       | 244/1086 [03:21<1:00:51,  4.34s/it]"
     ]
    },
    {
     "name": "stdout",
     "output_type": "stream",
     "text": [
      "There was an ERROR: Probably your internet connection                   isn't working\n"
     ]
    },
    {
     "name": "stderr",
     "output_type": "stream",
     "text": [
      "\r",
      " 23%|██▎       | 245/1086 [03:22<43:58,  3.14s/it]  "
     ]
    },
    {
     "name": "stdout",
     "output_type": "stream",
     "text": [
      "There was an ERROR: Probably your internet connection                   isn't working\n"
     ]
    },
    {
     "name": "stderr",
     "output_type": "stream",
     "text": [
      "\r",
      " 23%|██▎       | 246/1086 [03:29<1:00:09,  4.30s/it]"
     ]
    },
    {
     "name": "stdout",
     "output_type": "stream",
     "text": [
      "There was an ERROR: Probably your internet connection                   isn't working\n"
     ]
    },
    {
     "name": "stderr",
     "output_type": "stream",
     "text": [
      "\r",
      " 23%|██▎       | 247/1086 [03:30<48:44,  3.49s/it]  "
     ]
    },
    {
     "name": "stdout",
     "output_type": "stream",
     "text": [
      "There was an ERROR: Probably your internet connection                   isn't working\n"
     ]
    },
    {
     "name": "stderr",
     "output_type": "stream",
     "text": [
      "\r",
      " 23%|██▎       | 248/1086 [03:31<35:04,  2.51s/it]"
     ]
    },
    {
     "name": "stdout",
     "output_type": "stream",
     "text": [
      "There was an ERROR: Probably your internet connection                   isn't working\n",
      "There was an ERROR: Probably your internet connection                   isn't working\n"
     ]
    },
    {
     "name": "stderr",
     "output_type": "stream",
     "text": [
      "\r",
      " 23%|██▎       | 250/1086 [03:31<24:53,  1.79s/it]"
     ]
    },
    {
     "name": "stdout",
     "output_type": "stream",
     "text": [
      "There was an ERROR: Probably your internet connection                   isn't working\n"
     ]
    },
    {
     "name": "stderr",
     "output_type": "stream",
     "text": [
      "\r",
      " 23%|██▎       | 251/1086 [03:31<18:49,  1.35s/it]"
     ]
    },
    {
     "name": "stdout",
     "output_type": "stream",
     "text": [
      "There was an ERROR: Probably your internet connection                   isn't working\n"
     ]
    },
    {
     "name": "stderr",
     "output_type": "stream",
     "text": [
      "\r",
      " 23%|██▎       | 252/1086 [03:31<13:49,  1.01it/s]"
     ]
    },
    {
     "name": "stdout",
     "output_type": "stream",
     "text": [
      "There was an ERROR: Probably your internet connection                   isn't working\n"
     ]
    },
    {
     "name": "stderr",
     "output_type": "stream",
     "text": [
      "\r",
      " 23%|██▎       | 253/1086 [03:31<10:11,  1.36it/s]"
     ]
    },
    {
     "name": "stdout",
     "output_type": "stream",
     "text": [
      "There was an ERROR: Probably your internet connection                   isn't working\n"
     ]
    },
    {
     "name": "stderr",
     "output_type": "stream",
     "text": [
      "\r",
      " 23%|██▎       | 254/1086 [03:32<08:44,  1.59it/s]"
     ]
    },
    {
     "name": "stdout",
     "output_type": "stream",
     "text": [
      "There was an ERROR: Probably your internet connection                   isn't working\n"
     ]
    },
    {
     "name": "stderr",
     "output_type": "stream",
     "text": [
      "\r",
      " 23%|██▎       | 255/1086 [03:32<06:55,  2.00it/s]"
     ]
    },
    {
     "name": "stdout",
     "output_type": "stream",
     "text": [
      "There was an ERROR: Probably your internet connection                   isn't working\n",
      "There was an ERROR: Probably your internet connection                   isn't working\n"
     ]
    },
    {
     "name": "stderr",
     "output_type": "stream",
     "text": [
      "\r",
      " 24%|██▎       | 257/1086 [03:32<05:05,  2.71it/s]"
     ]
    },
    {
     "name": "stdout",
     "output_type": "stream",
     "text": [
      "There was an ERROR: Probably your internet connection                   isn't working\n",
      "There was an ERROR: Probably your internet connection                   isn't working\n"
     ]
    },
    {
     "name": "stderr",
     "output_type": "stream",
     "text": [
      "\r",
      " 24%|██▍       | 259/1086 [03:32<03:55,  3.51it/s]"
     ]
    },
    {
     "name": "stdout",
     "output_type": "stream",
     "text": [
      "There was an ERROR: Probably your internet connection                   isn't working\n"
     ]
    },
    {
     "name": "stderr",
     "output_type": "stream",
     "text": [
      "\r",
      " 24%|██▍       | 260/1086 [03:33<03:34,  3.85it/s]"
     ]
    },
    {
     "name": "stdout",
     "output_type": "stream",
     "text": [
      "There was an ERROR: Probably your internet connection                   isn't working\n"
     ]
    },
    {
     "name": "stderr",
     "output_type": "stream",
     "text": [
      "\r",
      " 24%|██▍       | 261/1086 [03:33<03:02,  4.52it/s]"
     ]
    },
    {
     "name": "stdout",
     "output_type": "stream",
     "text": [
      "There was an ERROR: Probably your internet connection                   isn't working\n"
     ]
    },
    {
     "name": "stderr",
     "output_type": "stream",
     "text": [
      "\r",
      " 24%|██▍       | 262/1086 [03:33<02:47,  4.91it/s]"
     ]
    },
    {
     "name": "stdout",
     "output_type": "stream",
     "text": [
      "There was an ERROR: Probably your internet connection                   isn't working\n"
     ]
    },
    {
     "name": "stderr",
     "output_type": "stream",
     "text": [
      "\r",
      " 24%|██▍       | 263/1086 [03:33<02:43,  5.04it/s]"
     ]
    },
    {
     "name": "stdout",
     "output_type": "stream",
     "text": [
      "There was an ERROR: Probably your internet connection                   isn't working\n"
     ]
    },
    {
     "name": "stderr",
     "output_type": "stream",
     "text": [
      "\r",
      " 24%|██▍       | 264/1086 [03:33<02:47,  4.90it/s]"
     ]
    },
    {
     "name": "stdout",
     "output_type": "stream",
     "text": [
      "There was an ERROR: Probably your internet connection                   isn't working\n",
      "There was an ERROR: Probably your internet connection                   isn't working\n",
      "There was an ERROR: Probably your internet connection                   isn't working\n"
     ]
    },
    {
     "name": "stderr",
     "output_type": "stream",
     "text": [
      "\r",
      " 25%|██▍       | 267/1086 [03:34<02:23,  5.72it/s]"
     ]
    },
    {
     "name": "stdout",
     "output_type": "stream",
     "text": [
      "There was an ERROR: Probably your internet connection                   isn't working\n"
     ]
    },
    {
     "name": "stderr",
     "output_type": "stream",
     "text": [
      "\r",
      " 25%|██▍       | 268/1086 [03:34<02:05,  6.51it/s]"
     ]
    },
    {
     "name": "stdout",
     "output_type": "stream",
     "text": [
      "There was an ERROR: Probably your internet connection                   isn't working\n",
      "There was an ERROR: Probably your internet connection                   isn't working\n"
     ]
    },
    {
     "name": "stderr",
     "output_type": "stream",
     "text": [
      "\r",
      " 25%|██▍       | 270/1086 [03:34<01:55,  7.07it/s]"
     ]
    },
    {
     "name": "stdout",
     "output_type": "stream",
     "text": [
      "There was an ERROR: Probably your internet connection                   isn't working\n",
      "There was an ERROR: Probably your internet connection                   isn't working\n"
     ]
    },
    {
     "name": "stderr",
     "output_type": "stream",
     "text": [
      "\r",
      " 25%|██▌       | 272/1086 [03:34<01:56,  6.97it/s]"
     ]
    },
    {
     "name": "stdout",
     "output_type": "stream",
     "text": [
      "There was an ERROR: Probably your internet connection                   isn't working\n",
      "There was an ERROR: Probably your internet connection                   isn't working\n",
      "There was an ERROR: Probably your internet connection                   isn't working\n"
     ]
    },
    {
     "name": "stderr",
     "output_type": "stream",
     "text": [
      "\r",
      " 25%|██▌       | 275/1086 [03:34<01:33,  8.65it/s]"
     ]
    },
    {
     "name": "stdout",
     "output_type": "stream",
     "text": [
      "There was an ERROR: Probably your internet connection                   isn't working\n",
      "There was an ERROR: Probably your internet connection                   isn't working\n"
     ]
    },
    {
     "name": "stderr",
     "output_type": "stream",
     "text": [
      "\r",
      " 26%|██▌       | 277/1086 [03:35<01:27,  9.24it/s]"
     ]
    },
    {
     "name": "stdout",
     "output_type": "stream",
     "text": [
      "There was an ERROR: Probably your internet connection                   isn't working\n",
      "There was an ERROR: Probably your internet connection                   isn't working\n"
     ]
    },
    {
     "name": "stderr",
     "output_type": "stream",
     "text": [
      "\r",
      " 26%|██▌       | 279/1086 [03:35<01:26,  9.33it/s]"
     ]
    },
    {
     "name": "stdout",
     "output_type": "stream",
     "text": [
      "There was an ERROR: Probably your internet connection                   isn't working\n",
      "There was an ERROR: Probably your internet connection                   isn't working\n"
     ]
    },
    {
     "name": "stderr",
     "output_type": "stream",
     "text": [
      "\r",
      " 26%|██▌       | 281/1086 [03:35<01:30,  8.89it/s]"
     ]
    },
    {
     "name": "stdout",
     "output_type": "stream",
     "text": [
      "There was an ERROR: Probably your internet connection                   isn't working\n"
     ]
    },
    {
     "name": "stderr",
     "output_type": "stream",
     "text": [
      "\r",
      " 26%|██▌       | 282/1086 [03:35<02:25,  5.54it/s]"
     ]
    },
    {
     "name": "stdout",
     "output_type": "stream",
     "text": [
      "There was an ERROR: Probably your internet connection                   isn't working\n",
      "There was an ERROR: Probably your internet connection                   isn't working\n"
     ]
    },
    {
     "name": "stderr",
     "output_type": "stream",
     "text": [
      "\r",
      " 26%|██▌       | 284/1086 [03:36<02:10,  6.12it/s]"
     ]
    },
    {
     "name": "stdout",
     "output_type": "stream",
     "text": [
      "There was an ERROR: Probably your internet connection                   isn't working\n",
      "There was an ERROR: Probably your internet connection                   isn't working\n"
     ]
    },
    {
     "name": "stderr",
     "output_type": "stream",
     "text": [
      "\r",
      " 26%|██▋       | 286/1086 [03:37<04:19,  3.08it/s]"
     ]
    },
    {
     "name": "stdout",
     "output_type": "stream",
     "text": [
      "There was an ERROR: Probably your internet connection                   isn't working\n"
     ]
    },
    {
     "name": "stderr",
     "output_type": "stream",
     "text": [
      "\r",
      " 26%|██▋       | 287/1086 [03:37<03:34,  3.73it/s]"
     ]
    },
    {
     "name": "stdout",
     "output_type": "stream",
     "text": [
      "There was an ERROR: Probably your internet connection                   isn't working\n"
     ]
    },
    {
     "name": "stderr",
     "output_type": "stream",
     "text": [
      "\r",
      " 27%|██▋       | 288/1086 [03:38<06:00,  2.21it/s]"
     ]
    },
    {
     "name": "stdout",
     "output_type": "stream",
     "text": [
      "There was an ERROR: Probably your internet connection                   isn't working\n"
     ]
    },
    {
     "name": "stderr",
     "output_type": "stream",
     "text": [
      "\r",
      " 27%|██▋       | 289/1086 [03:39<08:22,  1.59it/s]"
     ]
    },
    {
     "name": "stdout",
     "output_type": "stream",
     "text": [
      "There was an ERROR: Probably your internet connection                   isn't working\n"
     ]
    },
    {
     "name": "stderr",
     "output_type": "stream",
     "text": [
      "\r",
      " 27%|██▋       | 290/1086 [03:39<07:23,  1.79it/s]"
     ]
    },
    {
     "name": "stdout",
     "output_type": "stream",
     "text": [
      "There was an ERROR: Probably your internet connection                   isn't working\n"
     ]
    },
    {
     "name": "stderr",
     "output_type": "stream",
     "text": [
      "\r",
      " 27%|██▋       | 291/1086 [03:46<30:48,  2.33s/it]"
     ]
    },
    {
     "name": "stdout",
     "output_type": "stream",
     "text": [
      "There was an ERROR: Probably your internet connection                   isn't working\n"
     ]
    },
    {
     "name": "stderr",
     "output_type": "stream",
     "text": [
      "\r",
      " 27%|██▋       | 292/1086 [03:48<31:05,  2.35s/it]"
     ]
    },
    {
     "name": "stdout",
     "output_type": "stream",
     "text": [
      "There was an ERROR: Probably your internet connection                   isn't working\n"
     ]
    },
    {
     "name": "stderr",
     "output_type": "stream",
     "text": [
      "\r",
      " 27%|██▋       | 293/1086 [03:55<47:36,  3.60s/it]"
     ]
    },
    {
     "name": "stdout",
     "output_type": "stream",
     "text": [
      "There was an ERROR: Probably your internet connection                   isn't working\n"
     ]
    },
    {
     "name": "stderr",
     "output_type": "stream",
     "text": [
      "\r",
      " 27%|██▋       | 294/1086 [03:57<43:14,  3.28s/it]"
     ]
    },
    {
     "name": "stdout",
     "output_type": "stream",
     "text": [
      "There was an ERROR: Probably your internet connection                   isn't working\n"
     ]
    },
    {
     "name": "stderr",
     "output_type": "stream",
     "text": [
      "\r",
      " 27%|██▋       | 295/1086 [04:04<55:32,  4.21s/it]"
     ]
    },
    {
     "name": "stdout",
     "output_type": "stream",
     "text": [
      "There was an ERROR: Probably your internet connection                   isn't working\n"
     ]
    },
    {
     "name": "stderr",
     "output_type": "stream",
     "text": [
      "\r",
      " 27%|██▋       | 296/1086 [04:06<46:19,  3.52s/it]"
     ]
    },
    {
     "name": "stdout",
     "output_type": "stream",
     "text": [
      "There was an ERROR: Probably your internet connection                   isn't working\n",
      "There was an ERROR: Probably your internet connection                   isn't working\n",
      "There was an ERROR: Probably your internet connection                   isn't working\n"
     ]
    },
    {
     "name": "stderr",
     "output_type": "stream",
     "text": [
      "\r",
      " 28%|██▊       | 299/1086 [04:06<33:02,  2.52s/it]"
     ]
    },
    {
     "name": "stdout",
     "output_type": "stream",
     "text": [
      "There was an ERROR: Probably your internet connection                   isn't working\n"
     ]
    },
    {
     "name": "stderr",
     "output_type": "stream",
     "text": [
      "\r",
      " 28%|██▊       | 300/1086 [04:06<23:49,  1.82s/it]"
     ]
    },
    {
     "name": "stdout",
     "output_type": "stream",
     "text": [
      "There was an ERROR: Probably your internet connection                   isn't working\n"
     ]
    },
    {
     "name": "stderr",
     "output_type": "stream",
     "text": [
      "\r",
      " 28%|██▊       | 301/1086 [04:07<17:32,  1.34s/it]"
     ]
    },
    {
     "name": "stdout",
     "output_type": "stream",
     "text": [
      "There was an ERROR: Probably your internet connection                   isn't working\n"
     ]
    },
    {
     "name": "stderr",
     "output_type": "stream",
     "text": [
      "\r",
      " 28%|██▊       | 302/1086 [04:07<13:00,  1.00it/s]"
     ]
    },
    {
     "name": "stdout",
     "output_type": "stream",
     "text": [
      "There was an ERROR: Probably your internet connection                   isn't working\n"
     ]
    },
    {
     "name": "stderr",
     "output_type": "stream",
     "text": [
      "\r",
      " 28%|██▊       | 303/1086 [04:07<09:32,  1.37it/s]"
     ]
    },
    {
     "name": "stdout",
     "output_type": "stream",
     "text": [
      "There was an ERROR: Probably your internet connection                   isn't working\n",
      "There was an ERROR: Probably your internet connection                   isn't working\n"
     ]
    },
    {
     "name": "stderr",
     "output_type": "stream",
     "text": [
      "\r",
      " 28%|██▊       | 305/1086 [04:07<07:11,  1.81it/s]"
     ]
    },
    {
     "name": "stdout",
     "output_type": "stream",
     "text": [
      "There was an ERROR: Probably your internet connection                   isn't working\n"
     ]
    },
    {
     "name": "stderr",
     "output_type": "stream",
     "text": [
      "\r",
      " 28%|██▊       | 306/1086 [04:08<07:15,  1.79it/s]"
     ]
    },
    {
     "name": "stdout",
     "output_type": "stream",
     "text": [
      "There was an ERROR: Probably your internet connection                   isn't working\n",
      "There was an ERROR: Probably your internet connection                   isn't working\n"
     ]
    },
    {
     "name": "stderr",
     "output_type": "stream",
     "text": [
      "\r",
      " 28%|██▊       | 308/1086 [04:08<05:18,  2.44it/s]"
     ]
    },
    {
     "name": "stdout",
     "output_type": "stream",
     "text": [
      "There was an ERROR: Probably your internet connection                   isn't working\n",
      "There was an ERROR: Probably your internet connection                   isn't working\n"
     ]
    },
    {
     "name": "stderr",
     "output_type": "stream",
     "text": [
      "\r",
      " 29%|██▊       | 310/1086 [04:08<04:06,  3.15it/s]"
     ]
    },
    {
     "name": "stdout",
     "output_type": "stream",
     "text": [
      "There was an ERROR: Probably your internet connection                   isn't working\n",
      "There was an ERROR: Probably your internet connection                   isn't working\n"
     ]
    },
    {
     "name": "stderr",
     "output_type": "stream",
     "text": [
      "\r",
      " 29%|██▊       | 312/1086 [04:08<03:32,  3.64it/s]"
     ]
    },
    {
     "name": "stdout",
     "output_type": "stream",
     "text": [
      "There was an ERROR: Probably your internet connection                   isn't working\n"
     ]
    },
    {
     "name": "stderr",
     "output_type": "stream",
     "text": [
      "\r",
      " 29%|██▉       | 313/1086 [04:09<04:22,  2.94it/s]"
     ]
    },
    {
     "name": "stdout",
     "output_type": "stream",
     "text": [
      "There was an ERROR: Probably your internet connection                   isn't working\n",
      "There was an ERROR: Probably your internet connection                   isn't working\n"
     ]
    },
    {
     "name": "stderr",
     "output_type": "stream",
     "text": [
      "\r",
      " 29%|██▉       | 315/1086 [04:09<03:19,  3.86it/s]"
     ]
    },
    {
     "name": "stdout",
     "output_type": "stream",
     "text": [
      "There was an ERROR: Probably your internet connection                   isn't working\n",
      "There was an ERROR: Probably your internet connection                   isn't working\n",
      "There was an ERROR: Probably your internet connection                   isn't working\n"
     ]
    },
    {
     "name": "stderr",
     "output_type": "stream",
     "text": [
      "\r",
      " 29%|██▉       | 318/1086 [04:09<02:27,  5.21it/s]"
     ]
    },
    {
     "name": "stdout",
     "output_type": "stream",
     "text": [
      "There was an ERROR: Probably your internet connection                   isn't working\n",
      "There was an ERROR: Probably your internet connection                   isn't working\n"
     ]
    },
    {
     "name": "stderr",
     "output_type": "stream",
     "text": [
      "\r",
      " 29%|██▉       | 320/1086 [04:10<02:27,  5.20it/s]"
     ]
    },
    {
     "name": "stdout",
     "output_type": "stream",
     "text": [
      "There was an ERROR: Probably your internet connection                   isn't working\n",
      "There was an ERROR: Probably your internet connection                   isn't working\n",
      "There was an ERROR: Probably your internet connection                   isn't working\n"
     ]
    },
    {
     "name": "stderr",
     "output_type": "stream",
     "text": [
      "\r",
      " 30%|██▉       | 323/1086 [04:10<01:53,  6.70it/s]"
     ]
    },
    {
     "name": "stdout",
     "output_type": "stream",
     "text": [
      "There was an ERROR: Probably your internet connection                   isn't working\n",
      "There was an ERROR: Probably your internet connection                   isn't working\n"
     ]
    },
    {
     "name": "stderr",
     "output_type": "stream",
     "text": [
      "\r",
      " 30%|██▉       | 325/1086 [04:10<01:38,  7.74it/s]"
     ]
    },
    {
     "name": "stdout",
     "output_type": "stream",
     "text": [
      "There was an ERROR: Probably your internet connection                   isn't working\n",
      "There was an ERROR: Probably your internet connection                   isn't working\n"
     ]
    },
    {
     "name": "stderr",
     "output_type": "stream",
     "text": [
      "\r",
      " 30%|███       | 327/1086 [04:10<01:25,  8.92it/s]"
     ]
    },
    {
     "name": "stdout",
     "output_type": "stream",
     "text": [
      "There was an ERROR: Probably your internet connection                   isn't working\n",
      "There was an ERROR: Probably your internet connection                   isn't working\n"
     ]
    },
    {
     "name": "stderr",
     "output_type": "stream",
     "text": [
      "\r",
      " 30%|███       | 329/1086 [04:10<01:11, 10.59it/s]"
     ]
    },
    {
     "name": "stdout",
     "output_type": "stream",
     "text": [
      "There was an ERROR: Probably your internet connection                   isn't working\n",
      "There was an ERROR: Probably your internet connection                   isn't working\n"
     ]
    },
    {
     "name": "stderr",
     "output_type": "stream",
     "text": [
      "\r",
      " 30%|███       | 331/1086 [04:11<01:55,  6.53it/s]"
     ]
    },
    {
     "name": "stdout",
     "output_type": "stream",
     "text": [
      "There was an ERROR: Probably your internet connection                   isn't working\n",
      "There was an ERROR: Probably your internet connection                   isn't working\n"
     ]
    },
    {
     "name": "stderr",
     "output_type": "stream",
     "text": [
      "\r",
      " 31%|███       | 333/1086 [04:11<02:01,  6.21it/s]"
     ]
    },
    {
     "name": "stdout",
     "output_type": "stream",
     "text": [
      "There was an ERROR: Probably your internet connection                   isn't working\n"
     ]
    },
    {
     "name": "stderr",
     "output_type": "stream",
     "text": [
      "\r",
      " 31%|███       | 334/1086 [04:11<02:25,  5.16it/s]"
     ]
    },
    {
     "name": "stdout",
     "output_type": "stream",
     "text": [
      "There was an ERROR: Probably your internet connection                   isn't working\n"
     ]
    },
    {
     "name": "stderr",
     "output_type": "stream",
     "text": [
      "\r",
      " 31%|███       | 335/1086 [04:12<05:01,  2.49it/s]"
     ]
    },
    {
     "name": "stdout",
     "output_type": "stream",
     "text": [
      "There was an ERROR: Probably your internet connection                   isn't working\n"
     ]
    },
    {
     "name": "stderr",
     "output_type": "stream",
     "text": [
      "\r",
      " 31%|███       | 336/1086 [04:13<06:50,  1.83it/s]"
     ]
    },
    {
     "name": "stdout",
     "output_type": "stream",
     "text": [
      "There was an ERROR: Probably your internet connection                   isn't working\n"
     ]
    },
    {
     "name": "stderr",
     "output_type": "stream",
     "text": [
      "\r",
      " 31%|███       | 337/1086 [04:14<08:46,  1.42it/s]"
     ]
    },
    {
     "name": "stdout",
     "output_type": "stream",
     "text": [
      "There was an ERROR: Probably your internet connection                   isn't working\n"
     ]
    },
    {
     "name": "stderr",
     "output_type": "stream",
     "text": [
      "\r",
      " 31%|███       | 338/1086 [04:15<10:43,  1.16it/s]"
     ]
    },
    {
     "name": "stdout",
     "output_type": "stream",
     "text": [
      "There was an ERROR: Probably your internet connection                   isn't working\n",
      "There was an ERROR: Probably your internet connection                   isn't working\n"
     ]
    },
    {
     "name": "stderr",
     "output_type": "stream",
     "text": [
      "\r",
      " 31%|███▏      | 340/1086 [04:21<18:20,  1.47s/it]"
     ]
    },
    {
     "name": "stdout",
     "output_type": "stream",
     "text": [
      "There was an ERROR: Probably your internet connection                   isn't working\n"
     ]
    },
    {
     "name": "stderr",
     "output_type": "stream",
     "text": [
      "\r",
      " 31%|███▏      | 341/1086 [04:24<25:07,  2.02s/it]"
     ]
    },
    {
     "name": "stdout",
     "output_type": "stream",
     "text": [
      "There was an ERROR: Probably your internet connection                   isn't working\n"
     ]
    },
    {
     "name": "stderr",
     "output_type": "stream",
     "text": [
      "\r",
      " 31%|███▏      | 342/1086 [04:31<42:44,  3.45s/it]"
     ]
    },
    {
     "name": "stdout",
     "output_type": "stream",
     "text": [
      "There was an ERROR: Probably your internet connection                   isn't working\n"
     ]
    },
    {
     "name": "stderr",
     "output_type": "stream",
     "text": [
      "\r",
      " 32%|███▏      | 343/1086 [04:33<38:06,  3.08s/it]"
     ]
    },
    {
     "name": "stdout",
     "output_type": "stream",
     "text": [
      "There was an ERROR: Probably your internet connection                   isn't working\n"
     ]
    },
    {
     "name": "stderr",
     "output_type": "stream",
     "text": [
      "\r",
      " 32%|███▏      | 344/1086 [04:39<46:18,  3.74s/it]"
     ]
    },
    {
     "name": "stdout",
     "output_type": "stream",
     "text": [
      "There was an ERROR: Probably your internet connection                   isn't working\n"
     ]
    },
    {
     "name": "stderr",
     "output_type": "stream",
     "text": [
      "\r",
      " 32%|███▏      | 345/1086 [04:40<37:41,  3.05s/it]"
     ]
    },
    {
     "name": "stdout",
     "output_type": "stream",
     "text": [
      "There was an ERROR: Probably your internet connection                   isn't working\n"
     ]
    },
    {
     "name": "stderr",
     "output_type": "stream",
     "text": [
      "\r",
      " 32%|███▏      | 346/1086 [04:40<26:50,  2.18s/it]"
     ]
    },
    {
     "name": "stdout",
     "output_type": "stream",
     "text": [
      "There was an ERROR: Probably your internet connection                   isn't working\n"
     ]
    },
    {
     "name": "stderr",
     "output_type": "stream",
     "text": [
      "\r",
      " 32%|███▏      | 347/1086 [04:41<22:34,  1.83s/it]"
     ]
    },
    {
     "name": "stdout",
     "output_type": "stream",
     "text": [
      "There was an ERROR: Probably your internet connection                   isn't working\n"
     ]
    },
    {
     "name": "stderr",
     "output_type": "stream",
     "text": [
      "\r",
      " 32%|███▏      | 348/1086 [04:42<17:19,  1.41s/it]"
     ]
    },
    {
     "name": "stdout",
     "output_type": "stream",
     "text": [
      "There was an ERROR: Probably your internet connection                   isn't working\n",
      "There was an ERROR: Probably your internet connection                   isn't working\n"
     ]
    },
    {
     "name": "stderr",
     "output_type": "stream",
     "text": [
      "\r",
      " 32%|███▏      | 350/1086 [04:42<12:21,  1.01s/it]"
     ]
    },
    {
     "name": "stdout",
     "output_type": "stream",
     "text": [
      "There was an ERROR: Probably your internet connection                   isn't working\n"
     ]
    },
    {
     "name": "stderr",
     "output_type": "stream",
     "text": [
      "\r",
      " 32%|███▏      | 351/1086 [04:42<10:08,  1.21it/s]"
     ]
    },
    {
     "name": "stdout",
     "output_type": "stream",
     "text": [
      "There was an ERROR: Probably your internet connection                   isn't working\n"
     ]
    },
    {
     "name": "stderr",
     "output_type": "stream",
     "text": [
      "\r",
      " 32%|███▏      | 352/1086 [04:43<07:59,  1.53it/s]"
     ]
    },
    {
     "name": "stdout",
     "output_type": "stream",
     "text": [
      "There was an ERROR: Probably your internet connection                   isn't working\n"
     ]
    },
    {
     "name": "stderr",
     "output_type": "stream",
     "text": [
      "\r",
      " 33%|███▎      | 353/1086 [04:43<06:44,  1.81it/s]"
     ]
    },
    {
     "name": "stdout",
     "output_type": "stream",
     "text": [
      "There was an ERROR: Probably your internet connection                   isn't working\n"
     ]
    },
    {
     "name": "stderr",
     "output_type": "stream",
     "text": [
      "\r",
      " 33%|███▎      | 354/1086 [04:43<05:50,  2.09it/s]"
     ]
    },
    {
     "name": "stdout",
     "output_type": "stream",
     "text": [
      "There was an ERROR: Probably your internet connection                   isn't working\n"
     ]
    },
    {
     "name": "stderr",
     "output_type": "stream",
     "text": [
      "\r",
      " 33%|███▎      | 355/1086 [04:44<05:34,  2.19it/s]"
     ]
    },
    {
     "name": "stdout",
     "output_type": "stream",
     "text": [
      "There was an ERROR: Probably your internet connection                   isn't working\n",
      "There was an ERROR: Probably your internet connection                   isn't working\n",
      "There was an ERROR: Probably your internet connection                   isn't working\n",
      "There was an ERROR: Probably your internet connection                   isn't working\n"
     ]
    },
    {
     "name": "stderr",
     "output_type": "stream",
     "text": [
      "\r",
      " 33%|███▎      | 358/1086 [04:44<04:10,  2.91it/s]"
     ]
    },
    {
     "name": "stdout",
     "output_type": "stream",
     "text": [
      "There was an ERROR: Probably your internet connection                   isn't working\n"
     ]
    },
    {
     "name": "stderr",
     "output_type": "stream",
     "text": [
      "\r",
      " 33%|███▎      | 360/1086 [04:44<03:31,  3.44it/s]"
     ]
    },
    {
     "name": "stdout",
     "output_type": "stream",
     "text": [
      "There was an ERROR: Probably your internet connection                   isn't working\n",
      "There was an ERROR: Probably your internet connection                   isn't working\n"
     ]
    },
    {
     "name": "stderr",
     "output_type": "stream",
     "text": [
      "\r",
      " 33%|███▎      | 362/1086 [04:45<03:20,  3.61it/s]"
     ]
    },
    {
     "name": "stdout",
     "output_type": "stream",
     "text": [
      "There was an ERROR: Probably your internet connection                   isn't working\n"
     ]
    },
    {
     "name": "stderr",
     "output_type": "stream",
     "text": [
      " 50%|████▉     | 540/1086 [07:11<33:29,  3.68s/it]"
     ]
    },
    {
     "name": "stdout",
     "output_type": "stream",
     "text": [
      "There was an ERROR: Probably your internet connection                   isn't working\n"
     ]
    },
    {
     "name": "stderr",
     "output_type": "stream",
     "text": [
      " 64%|██████▍   | 693/1086 [09:19<08:04,  1.23s/it]"
     ]
    },
    {
     "name": "stdout",
     "output_type": "stream",
     "text": [
      "There was an ERROR: Probably your internet connection                   isn't working\n"
     ]
    },
    {
     "name": "stderr",
     "output_type": "stream",
     "text": [
      " 83%|████████▎ | 902/1086 [11:44<01:34,  1.95it/s]"
     ]
    },
    {
     "name": "stdout",
     "output_type": "stream",
     "text": [
      "There was an ERROR: Probably your internet connection                   isn't working\n"
     ]
    },
    {
     "name": "stderr",
     "output_type": "stream",
     "text": [
      "\r",
      " 83%|████████▎ | 903/1086 [11:44<01:15,  2.41it/s]"
     ]
    },
    {
     "name": "stdout",
     "output_type": "stream",
     "text": [
      "There was an ERROR: Probably your internet connection                   isn't working\n"
     ]
    },
    {
     "name": "stderr",
     "output_type": "stream",
     "text": [
      " 83%|████████▎ | 906/1086 [11:45<00:53,  3.40it/s]"
     ]
    },
    {
     "name": "stdout",
     "output_type": "stream",
     "text": [
      "There was an ERROR: Probably your internet connection                   isn't working\n"
     ]
    },
    {
     "name": "stderr",
     "output_type": "stream",
     "text": [
      "\r",
      " 84%|████████▎ | 907/1086 [11:45<00:55,  3.22it/s]"
     ]
    },
    {
     "name": "stdout",
     "output_type": "stream",
     "text": [
      "There was an ERROR: Probably your internet connection                   isn't working\n"
     ]
    },
    {
     "name": "stderr",
     "output_type": "stream",
     "text": [
      "\r",
      " 84%|████████▎ | 908/1086 [11:45<00:50,  3.52it/s]"
     ]
    },
    {
     "name": "stdout",
     "output_type": "stream",
     "text": [
      "There was an ERROR: Probably your internet connection                   isn't working\n"
     ]
    },
    {
     "name": "stderr",
     "output_type": "stream",
     "text": [
      "\r",
      " 84%|████████▎ | 909/1086 [11:47<02:07,  1.39it/s]"
     ]
    },
    {
     "name": "stdout",
     "output_type": "stream",
     "text": [
      "There was an ERROR: Probably your internet connection                   isn't working\n",
      "There was an ERROR: Probably your internet connection                   isn't working\n"
     ]
    },
    {
     "name": "stderr",
     "output_type": "stream",
     "text": [
      "\r",
      " 84%|████████▍ | 911/1086 [11:47<01:34,  1.85it/s]"
     ]
    },
    {
     "name": "stdout",
     "output_type": "stream",
     "text": [
      "There was an ERROR: Probably your internet connection                   isn't working\n"
     ]
    },
    {
     "name": "stderr",
     "output_type": "stream",
     "text": [
      "\r",
      " 84%|████████▍ | 912/1086 [11:48<01:12,  2.39it/s]"
     ]
    },
    {
     "name": "stdout",
     "output_type": "stream",
     "text": [
      "There was an ERROR: Probably your internet connection                   isn't working\n"
     ]
    },
    {
     "name": "stderr",
     "output_type": "stream",
     "text": [
      "\r",
      " 84%|████████▍ | 913/1086 [11:48<01:28,  1.94it/s]"
     ]
    },
    {
     "name": "stdout",
     "output_type": "stream",
     "text": [
      "There was an ERROR: Probably your internet connection                   isn't working\n",
      "There was an ERROR: Probably your internet connection                   isn't working\n"
     ]
    },
    {
     "name": "stderr",
     "output_type": "stream",
     "text": [
      "\r",
      " 84%|████████▍ | 915/1086 [11:48<01:06,  2.57it/s]"
     ]
    },
    {
     "name": "stdout",
     "output_type": "stream",
     "text": [
      "There was an ERROR: Probably your internet connection                   isn't working\n"
     ]
    },
    {
     "name": "stderr",
     "output_type": "stream",
     "text": [
      "\r",
      " 84%|████████▍ | 916/1086 [11:49<01:06,  2.57it/s]"
     ]
    },
    {
     "name": "stdout",
     "output_type": "stream",
     "text": [
      "There was an ERROR: Probably your internet connection                   isn't working\n",
      "There was an ERROR: Probably your internet connection                   isn't working\n"
     ]
    },
    {
     "name": "stderr",
     "output_type": "stream",
     "text": [
      "\r",
      " 85%|████████▍ | 918/1086 [11:50<01:25,  1.96it/s]"
     ]
    },
    {
     "name": "stdout",
     "output_type": "stream",
     "text": [
      "There was an ERROR: Probably your internet connection                   isn't working\n",
      "There was an ERROR: Probably your internet connection                   isn't working\n"
     ]
    },
    {
     "name": "stderr",
     "output_type": "stream",
     "text": [
      "\r",
      " 85%|████████▍ | 920/1086 [11:52<01:31,  1.81it/s]"
     ]
    },
    {
     "name": "stdout",
     "output_type": "stream",
     "text": [
      "There was an ERROR: Probably your internet connection                   isn't working\n"
     ]
    },
    {
     "name": "stderr",
     "output_type": "stream",
     "text": [
      "\r",
      " 85%|████████▍ | 921/1086 [11:53<01:44,  1.57it/s]"
     ]
    },
    {
     "name": "stdout",
     "output_type": "stream",
     "text": [
      "There was an ERROR: Probably your internet connection                   isn't working\n"
     ]
    },
    {
     "name": "stderr",
     "output_type": "stream",
     "text": [
      "\r",
      " 85%|████████▍ | 922/1086 [11:53<01:56,  1.40it/s]"
     ]
    },
    {
     "name": "stdout",
     "output_type": "stream",
     "text": [
      "There was an ERROR: Probably your internet connection                   isn't working\n"
     ]
    },
    {
     "name": "stderr",
     "output_type": "stream",
     "text": [
      "\r",
      " 85%|████████▍ | 923/1086 [11:54<01:27,  1.86it/s]"
     ]
    },
    {
     "name": "stdout",
     "output_type": "stream",
     "text": [
      "There was an ERROR: Probably your internet connection                   isn't working\n"
     ]
    },
    {
     "name": "stderr",
     "output_type": "stream",
     "text": [
      "\r",
      " 85%|████████▌ | 924/1086 [11:55<01:45,  1.54it/s]"
     ]
    },
    {
     "name": "stdout",
     "output_type": "stream",
     "text": [
      "There was an ERROR: Probably your internet connection                   isn't working\n"
     ]
    },
    {
     "name": "stderr",
     "output_type": "stream",
     "text": [
      "\r",
      " 85%|████████▌ | 925/1086 [11:57<03:31,  1.31s/it]"
     ]
    },
    {
     "name": "stdout",
     "output_type": "stream",
     "text": [
      "There was an ERROR: Probably your internet connection                   isn't working\n"
     ]
    },
    {
     "name": "stderr",
     "output_type": "stream",
     "text": [
      "\r",
      " 85%|████████▌ | 926/1086 [11:58<02:34,  1.04it/s]"
     ]
    },
    {
     "name": "stdout",
     "output_type": "stream",
     "text": [
      "There was an ERROR: Probably your internet connection                   isn't working\n"
     ]
    },
    {
     "name": "stderr",
     "output_type": "stream",
     "text": [
      "\r",
      " 85%|████████▌ | 927/1086 [12:01<04:34,  1.73s/it]"
     ]
    },
    {
     "name": "stdout",
     "output_type": "stream",
     "text": [
      "There was an ERROR: Probably your internet connection                   isn't working\n"
     ]
    },
    {
     "name": "stderr",
     "output_type": "stream",
     "text": [
      "\r",
      " 85%|████████▌ | 928/1086 [12:02<03:34,  1.36s/it]"
     ]
    },
    {
     "name": "stdout",
     "output_type": "stream",
     "text": [
      "There was an ERROR: Probably your internet connection                   isn't working\n"
     ]
    },
    {
     "name": "stderr",
     "output_type": "stream",
     "text": [
      "\r",
      " 86%|████████▌ | 929/1086 [12:04<04:35,  1.75s/it]"
     ]
    },
    {
     "name": "stdout",
     "output_type": "stream",
     "text": [
      "There was an ERROR: Probably your internet connection                   isn't working\n",
      "There was an ERROR: Probably your internet connection                   isn't working\n"
     ]
    },
    {
     "name": "stderr",
     "output_type": "stream",
     "text": [
      "\r",
      " 86%|████████▌ | 931/1086 [12:05<03:20,  1.29s/it]"
     ]
    },
    {
     "name": "stdout",
     "output_type": "stream",
     "text": [
      "There was an ERROR: Probably your internet connection                   isn't working\n"
     ]
    },
    {
     "name": "stderr",
     "output_type": "stream",
     "text": [
      "\r",
      " 86%|████████▌ | 932/1086 [12:05<02:42,  1.05s/it]"
     ]
    },
    {
     "name": "stdout",
     "output_type": "stream",
     "text": [
      "There was an ERROR: Probably your internet connection                   isn't working\n"
     ]
    },
    {
     "name": "stderr",
     "output_type": "stream",
     "text": [
      "\r",
      " 86%|████████▌ | 933/1086 [12:12<07:27,  2.93s/it]"
     ]
    },
    {
     "name": "stdout",
     "output_type": "stream",
     "text": [
      "There was an ERROR: Probably your internet connection                   isn't working\n"
     ]
    },
    {
     "name": "stderr",
     "output_type": "stream",
     "text": [
      "\r",
      " 86%|████████▌ | 934/1086 [12:13<05:35,  2.20s/it]"
     ]
    },
    {
     "name": "stdout",
     "output_type": "stream",
     "text": [
      "There was an ERROR: Probably your internet connection                   isn't working\n"
     ]
    },
    {
     "name": "stderr",
     "output_type": "stream",
     "text": [
      "\r",
      " 86%|████████▌ | 935/1086 [12:13<04:13,  1.68s/it]"
     ]
    },
    {
     "name": "stdout",
     "output_type": "stream",
     "text": [
      "There was an ERROR: Probably your internet connection                   isn't working\n"
     ]
    },
    {
     "name": "stderr",
     "output_type": "stream",
     "text": [
      "\r",
      " 86%|████████▌ | 936/1086 [12:14<03:04,  1.23s/it]"
     ]
    },
    {
     "name": "stdout",
     "output_type": "stream",
     "text": [
      "There was an ERROR: Probably your internet connection                   isn't working\n"
     ]
    },
    {
     "name": "stderr",
     "output_type": "stream",
     "text": [
      "\r",
      " 86%|████████▋ | 937/1086 [12:14<02:30,  1.01s/it]"
     ]
    },
    {
     "name": "stdout",
     "output_type": "stream",
     "text": [
      "There was an ERROR: Probably your internet connection                   isn't working\n"
     ]
    },
    {
     "name": "stderr",
     "output_type": "stream",
     "text": [
      "\r",
      " 86%|████████▋ | 938/1086 [12:16<02:47,  1.13s/it]"
     ]
    },
    {
     "name": "stdout",
     "output_type": "stream",
     "text": [
      "There was an ERROR: Probably your internet connection                   isn't working\n"
     ]
    },
    {
     "name": "stderr",
     "output_type": "stream",
     "text": [
      "\r",
      " 86%|████████▋ | 939/1086 [12:16<02:15,  1.09it/s]"
     ]
    },
    {
     "name": "stdout",
     "output_type": "stream",
     "text": [
      "There was an ERROR: Probably your internet connection                   isn't working\n"
     ]
    },
    {
     "name": "stderr",
     "output_type": "stream",
     "text": [
      "\r",
      " 87%|████████▋ | 940/1086 [12:17<02:11,  1.11it/s]"
     ]
    },
    {
     "name": "stdout",
     "output_type": "stream",
     "text": [
      "There was an ERROR: Probably your internet connection                   isn't working\n"
     ]
    },
    {
     "name": "stderr",
     "output_type": "stream",
     "text": [
      "\r",
      " 87%|████████▋ | 941/1086 [12:17<01:35,  1.51it/s]"
     ]
    },
    {
     "name": "stdout",
     "output_type": "stream",
     "text": [
      "There was an ERROR: Probably your internet connection                   isn't working\n"
     ]
    },
    {
     "name": "stderr",
     "output_type": "stream",
     "text": [
      "\r",
      " 87%|████████▋ | 942/1086 [12:17<01:15,  1.91it/s]"
     ]
    },
    {
     "name": "stdout",
     "output_type": "stream",
     "text": [
      "There was an ERROR: Probably your internet connection                   isn't working\n"
     ]
    },
    {
     "name": "stderr",
     "output_type": "stream",
     "text": [
      "\r",
      " 87%|████████▋ | 943/1086 [12:17<01:03,  2.26it/s]"
     ]
    },
    {
     "name": "stdout",
     "output_type": "stream",
     "text": [
      "There was an ERROR: Probably your internet connection                   isn't working\n"
     ]
    },
    {
     "name": "stderr",
     "output_type": "stream",
     "text": [
      "\r",
      " 87%|████████▋ | 944/1086 [12:18<00:58,  2.44it/s]"
     ]
    },
    {
     "name": "stdout",
     "output_type": "stream",
     "text": [
      "There was an ERROR: Probably your internet connection                   isn't working\n"
     ]
    },
    {
     "name": "stderr",
     "output_type": "stream",
     "text": [
      "\r",
      " 87%|████████▋ | 945/1086 [12:18<00:57,  2.47it/s]"
     ]
    },
    {
     "name": "stdout",
     "output_type": "stream",
     "text": [
      "There was an ERROR: Probably your internet connection                   isn't working\n"
     ]
    },
    {
     "name": "stderr",
     "output_type": "stream",
     "text": [
      "\r",
      " 87%|████████▋ | 946/1086 [12:18<00:54,  2.55it/s]"
     ]
    },
    {
     "name": "stdout",
     "output_type": "stream",
     "text": [
      "There was an ERROR: Probably your internet connection                   isn't working\n"
     ]
    },
    {
     "name": "stderr",
     "output_type": "stream",
     "text": [
      "\r",
      " 87%|████████▋ | 947/1086 [12:19<00:52,  2.64it/s]"
     ]
    },
    {
     "name": "stdout",
     "output_type": "stream",
     "text": [
      "There was an ERROR: Probably your internet connection                   isn't working\n"
     ]
    },
    {
     "name": "stderr",
     "output_type": "stream",
     "text": [
      "\r",
      " 87%|████████▋ | 948/1086 [12:19<00:51,  2.69it/s]"
     ]
    },
    {
     "name": "stdout",
     "output_type": "stream",
     "text": [
      "There was an ERROR: Probably your internet connection                   isn't working\n"
     ]
    },
    {
     "name": "stderr",
     "output_type": "stream",
     "text": [
      "\r",
      " 87%|████████▋ | 949/1086 [12:20<00:57,  2.40it/s]"
     ]
    },
    {
     "name": "stdout",
     "output_type": "stream",
     "text": [
      "There was an ERROR: Probably your internet connection                   isn't working\n"
     ]
    },
    {
     "name": "stderr",
     "output_type": "stream",
     "text": [
      "\r",
      " 87%|████████▋ | 950/1086 [12:20<00:43,  3.10it/s]"
     ]
    },
    {
     "name": "stdout",
     "output_type": "stream",
     "text": [
      "There was an ERROR: Probably your internet connection                   isn't working\n",
      "There was an ERROR: Probably your internet connection                   isn't working\n"
     ]
    },
    {
     "name": "stderr",
     "output_type": "stream",
     "text": [
      "\r",
      " 88%|████████▊ | 952/1086 [12:20<00:35,  3.78it/s]"
     ]
    },
    {
     "name": "stdout",
     "output_type": "stream",
     "text": [
      "There was an ERROR: Probably your internet connection                   isn't working\n"
     ]
    },
    {
     "name": "stderr",
     "output_type": "stream",
     "text": [
      "\r",
      " 88%|████████▊ | 953/1086 [12:20<00:39,  3.35it/s]"
     ]
    },
    {
     "name": "stdout",
     "output_type": "stream",
     "text": [
      "There was an ERROR: Probably your internet connection                   isn't working\n",
      "There was an ERROR: Probably your internet connection                   isn't working\n"
     ]
    },
    {
     "name": "stderr",
     "output_type": "stream",
     "text": [
      "\r",
      " 88%|████████▊ | 955/1086 [12:21<00:39,  3.29it/s]"
     ]
    },
    {
     "name": "stdout",
     "output_type": "stream",
     "text": [
      "There was an ERROR: Probably your internet connection                   isn't working\n"
     ]
    },
    {
     "name": "stderr",
     "output_type": "stream",
     "text": [
      "\r",
      " 88%|████████▊ | 956/1086 [12:21<00:44,  2.92it/s]"
     ]
    },
    {
     "name": "stdout",
     "output_type": "stream",
     "text": [
      "There was an ERROR: Probably your internet connection                   isn't working\n"
     ]
    },
    {
     "name": "stderr",
     "output_type": "stream",
     "text": [
      "\r",
      " 88%|████████▊ | 957/1086 [12:23<01:33,  1.38it/s]"
     ]
    },
    {
     "name": "stdout",
     "output_type": "stream",
     "text": [
      "There was an ERROR: Probably your internet connection                   isn't working\n"
     ]
    },
    {
     "name": "stderr",
     "output_type": "stream",
     "text": [
      "\r",
      " 88%|████████▊ | 958/1086 [12:24<01:25,  1.49it/s]"
     ]
    },
    {
     "name": "stdout",
     "output_type": "stream",
     "text": [
      "There was an ERROR: Probably your internet connection                   isn't working\n",
      "There was an ERROR: Probably your internet connection                   isn't working\n"
     ]
    },
    {
     "name": "stderr",
     "output_type": "stream",
     "text": [
      "\r",
      " 88%|████████▊ | 960/1086 [12:24<01:05,  1.93it/s]"
     ]
    },
    {
     "name": "stdout",
     "output_type": "stream",
     "text": [
      "There was an ERROR: Probably your internet connection                   isn't working\n"
     ]
    },
    {
     "name": "stderr",
     "output_type": "stream",
     "text": [
      "\r",
      " 88%|████████▊ | 961/1086 [12:24<01:02,  1.99it/s]"
     ]
    },
    {
     "name": "stdout",
     "output_type": "stream",
     "text": [
      "There was an ERROR: Probably your internet connection                   isn't working\n"
     ]
    },
    {
     "name": "stderr",
     "output_type": "stream",
     "text": [
      "\r",
      " 89%|████████▊ | 962/1086 [12:25<00:54,  2.27it/s]"
     ]
    },
    {
     "name": "stdout",
     "output_type": "stream",
     "text": [
      "There was an ERROR: Probably your internet connection                   isn't working\n",
      "There was an ERROR: Probably your internet connection                   isn't working\n"
     ]
    },
    {
     "name": "stderr",
     "output_type": "stream",
     "text": [
      "\r",
      " 89%|████████▉ | 964/1086 [12:26<00:52,  2.32it/s]"
     ]
    },
    {
     "name": "stdout",
     "output_type": "stream",
     "text": [
      "There was an ERROR: Probably your internet connection                   isn't working\n"
     ]
    },
    {
     "name": "stderr",
     "output_type": "stream",
     "text": [
      "\r",
      " 89%|████████▉ | 965/1086 [12:26<00:50,  2.39it/s]"
     ]
    },
    {
     "name": "stdout",
     "output_type": "stream",
     "text": [
      "There was an ERROR: Probably your internet connection                   isn't working\n",
      "There was an ERROR: Probably your internet connection                   isn't working\n"
     ]
    },
    {
     "name": "stderr",
     "output_type": "stream",
     "text": [
      "\r",
      " 89%|████████▉ | 967/1086 [12:26<00:41,  2.86it/s]"
     ]
    },
    {
     "name": "stdout",
     "output_type": "stream",
     "text": [
      "There was an ERROR: Probably your internet connection                   isn't working\n"
     ]
    },
    {
     "name": "stderr",
     "output_type": "stream",
     "text": [
      " 89%|████████▉ | 969/1086 [12:27<00:49,  2.37it/s]"
     ]
    },
    {
     "name": "stdout",
     "output_type": "stream",
     "text": [
      "There was an ERROR: Probably your internet connection                   isn't working\n"
     ]
    },
    {
     "name": "stderr",
     "output_type": "stream",
     "text": [
      "\r",
      " 89%|████████▉ | 970/1086 [12:29<01:19,  1.45it/s]"
     ]
    },
    {
     "name": "stdout",
     "output_type": "stream",
     "text": [
      "There was an ERROR: Probably your internet connection                   isn't working\n"
     ]
    },
    {
     "name": "stderr",
     "output_type": "stream",
     "text": [
      "\r",
      " 89%|████████▉ | 971/1086 [12:30<01:41,  1.13it/s]"
     ]
    },
    {
     "name": "stdout",
     "output_type": "stream",
     "text": [
      "There was an ERROR: Probably your internet connection                   isn't working\n"
     ]
    },
    {
     "name": "stderr",
     "output_type": "stream",
     "text": [
      "\r",
      " 90%|████████▉ | 972/1086 [12:30<01:24,  1.35it/s]"
     ]
    },
    {
     "name": "stdout",
     "output_type": "stream",
     "text": [
      "There was an ERROR: Probably your internet connection                   isn't working\n"
     ]
    },
    {
     "name": "stderr",
     "output_type": "stream",
     "text": [
      "\r",
      " 90%|████████▉ | 973/1086 [12:31<01:14,  1.52it/s]"
     ]
    },
    {
     "name": "stdout",
     "output_type": "stream",
     "text": [
      "There was an ERROR: Probably your internet connection                   isn't working\n"
     ]
    },
    {
     "name": "stderr",
     "output_type": "stream",
     "text": [
      "\r",
      " 90%|████████▉ | 974/1086 [12:34<02:42,  1.45s/it]"
     ]
    },
    {
     "name": "stdout",
     "output_type": "stream",
     "text": [
      "There was an ERROR: Probably your internet connection                   isn't working\n"
     ]
    },
    {
     "name": "stderr",
     "output_type": "stream",
     "text": [
      "\r",
      " 90%|████████▉ | 975/1086 [12:35<02:13,  1.20s/it]"
     ]
    },
    {
     "name": "stdout",
     "output_type": "stream",
     "text": [
      "There was an ERROR: Probably your internet connection                   isn't working\n"
     ]
    },
    {
     "name": "stderr",
     "output_type": "stream",
     "text": [
      "\r",
      " 90%|████████▉ | 976/1086 [12:36<02:25,  1.32s/it]"
     ]
    },
    {
     "name": "stdout",
     "output_type": "stream",
     "text": [
      "There was an ERROR: Probably your internet connection                   isn't working\n"
     ]
    },
    {
     "name": "stderr",
     "output_type": "stream",
     "text": [
      "\r",
      " 90%|████████▉ | 977/1086 [12:38<02:38,  1.45s/it]"
     ]
    },
    {
     "name": "stdout",
     "output_type": "stream",
     "text": [
      "There was an ERROR: Probably your internet connection                   isn't working\n"
     ]
    },
    {
     "name": "stderr",
     "output_type": "stream",
     "text": [
      "\r",
      " 90%|█████████ | 978/1086 [12:40<03:04,  1.71s/it]"
     ]
    },
    {
     "name": "stdout",
     "output_type": "stream",
     "text": [
      "There was an ERROR: Probably your internet connection                   isn't working\n",
      "There was an ERROR: Probably your internet connection                   isn't working\n"
     ]
    },
    {
     "name": "stderr",
     "output_type": "stream",
     "text": [
      "\r",
      " 90%|█████████ | 980/1086 [12:41<02:18,  1.31s/it]"
     ]
    },
    {
     "name": "stdout",
     "output_type": "stream",
     "text": [
      "There was an ERROR: Probably your internet connection                   isn't working\n"
     ]
    },
    {
     "name": "stderr",
     "output_type": "stream",
     "text": [
      "\r",
      " 90%|█████████ | 981/1086 [12:44<02:49,  1.62s/it]"
     ]
    },
    {
     "name": "stdout",
     "output_type": "stream",
     "text": [
      "There was an ERROR: Probably your internet connection                   isn't working\n"
     ]
    },
    {
     "name": "stderr",
     "output_type": "stream",
     "text": [
      "\r",
      " 90%|█████████ | 982/1086 [12:49<05:03,  2.91s/it]"
     ]
    },
    {
     "name": "stdout",
     "output_type": "stream",
     "text": [
      "There was an ERROR: Probably your internet connection                   isn't working\n"
     ]
    },
    {
     "name": "stderr",
     "output_type": "stream",
     "text": [
      "\r",
      " 91%|█████████ | 983/1086 [12:50<03:55,  2.28s/it]"
     ]
    },
    {
     "name": "stdout",
     "output_type": "stream",
     "text": [
      "There was an ERROR: Probably your internet connection                   isn't working\n"
     ]
    },
    {
     "name": "stderr",
     "output_type": "stream",
     "text": [
      "\r",
      " 91%|█████████ | 984/1086 [12:51<02:51,  1.68s/it]"
     ]
    },
    {
     "name": "stdout",
     "output_type": "stream",
     "text": [
      "There was an ERROR: Probably your internet connection                   isn't working\n"
     ]
    },
    {
     "name": "stderr",
     "output_type": "stream",
     "text": [
      "\r",
      " 91%|█████████ | 985/1086 [12:51<02:09,  1.29s/it]"
     ]
    },
    {
     "name": "stdout",
     "output_type": "stream",
     "text": [
      "There was an ERROR: Probably your internet connection                   isn't working\n"
     ]
    },
    {
     "name": "stderr",
     "output_type": "stream",
     "text": [
      "\r",
      " 91%|█████████ | 986/1086 [12:52<01:49,  1.09s/it]"
     ]
    },
    {
     "name": "stdout",
     "output_type": "stream",
     "text": [
      "There was an ERROR: Probably your internet connection                   isn't working\n"
     ]
    },
    {
     "name": "stderr",
     "output_type": "stream",
     "text": [
      "\r",
      " 91%|█████████ | 987/1086 [12:53<02:03,  1.25s/it]"
     ]
    },
    {
     "name": "stdout",
     "output_type": "stream",
     "text": [
      "There was an ERROR: Probably your internet connection                   isn't working\n"
     ]
    },
    {
     "name": "stderr",
     "output_type": "stream",
     "text": [
      "\r",
      " 91%|█████████ | 988/1086 [12:54<01:35,  1.03it/s]"
     ]
    },
    {
     "name": "stdout",
     "output_type": "stream",
     "text": [
      "There was an ERROR: Probably your internet connection                   isn't working\n"
     ]
    },
    {
     "name": "stderr",
     "output_type": "stream",
     "text": [
      "\r",
      " 91%|█████████ | 989/1086 [12:54<01:15,  1.29it/s]"
     ]
    },
    {
     "name": "stdout",
     "output_type": "stream",
     "text": [
      "There was an ERROR: Probably your internet connection                   isn't working\n"
     ]
    },
    {
     "name": "stderr",
     "output_type": "stream",
     "text": [
      "\r",
      " 91%|█████████ | 990/1086 [12:55<01:16,  1.26it/s]"
     ]
    },
    {
     "name": "stdout",
     "output_type": "stream",
     "text": [
      "There was an ERROR: Probably your internet connection                   isn't working\n",
      "There was an ERROR: Probably your internet connection                   isn't working\n"
     ]
    },
    {
     "name": "stderr",
     "output_type": "stream",
     "text": [
      "\r",
      " 91%|█████████▏| 992/1086 [12:55<00:59,  1.59it/s]"
     ]
    },
    {
     "name": "stdout",
     "output_type": "stream",
     "text": [
      "There was an ERROR: Probably your internet connection                   isn't working\n",
      "There was an ERROR: Probably your internet connection                   isn't working\n"
     ]
    },
    {
     "name": "stderr",
     "output_type": "stream",
     "text": [
      "\r",
      " 92%|█████████▏| 994/1086 [12:55<00:44,  2.07it/s]"
     ]
    },
    {
     "name": "stdout",
     "output_type": "stream",
     "text": [
      "There was an ERROR: Probably your internet connection                   isn't working\n",
      "There was an ERROR: Probably your internet connection                   isn't working\n"
     ]
    },
    {
     "name": "stderr",
     "output_type": "stream",
     "text": [
      "\r",
      " 92%|█████████▏| 996/1086 [12:56<00:39,  2.27it/s]"
     ]
    },
    {
     "name": "stdout",
     "output_type": "stream",
     "text": [
      "There was an ERROR: Probably your internet connection                   isn't working\n",
      "There was an ERROR: Probably your internet connection                   isn't working\n"
     ]
    },
    {
     "name": "stderr",
     "output_type": "stream",
     "text": [
      "\r",
      " 92%|█████████▏| 998/1086 [12:57<00:41,  2.14it/s]"
     ]
    },
    {
     "name": "stdout",
     "output_type": "stream",
     "text": [
      "There was an ERROR: Probably your internet connection                   isn't working\n",
      "There was an ERROR: Probably your internet connection                   isn't working\n"
     ]
    },
    {
     "name": "stderr",
     "output_type": "stream",
     "text": [
      "\r",
      " 92%|█████████▏| 1000/1086 [12:57<00:32,  2.67it/s]"
     ]
    },
    {
     "name": "stdout",
     "output_type": "stream",
     "text": [
      "There was an ERROR: Probably your internet connection                   isn't working\n"
     ]
    },
    {
     "name": "stderr",
     "output_type": "stream",
     "text": [
      "\r",
      " 92%|█████████▏| 1001/1086 [12:58<00:25,  3.29it/s]"
     ]
    },
    {
     "name": "stdout",
     "output_type": "stream",
     "text": [
      "There was an ERROR: Probably your internet connection                   isn't working\n"
     ]
    },
    {
     "name": "stderr",
     "output_type": "stream",
     "text": [
      "\r",
      " 92%|█████████▏| 1002/1086 [12:58<00:22,  3.82it/s]"
     ]
    },
    {
     "name": "stdout",
     "output_type": "stream",
     "text": [
      "There was an ERROR: Probably your internet connection                   isn't working\n"
     ]
    },
    {
     "name": "stderr",
     "output_type": "stream",
     "text": [
      "\r",
      " 92%|█████████▏| 1003/1086 [12:58<00:26,  3.09it/s]"
     ]
    },
    {
     "name": "stdout",
     "output_type": "stream",
     "text": [
      "There was an ERROR: Probably your internet connection                   isn't working\n"
     ]
    },
    {
     "name": "stderr",
     "output_type": "stream",
     "text": [
      "\r",
      " 92%|█████████▏| 1004/1086 [12:59<00:27,  2.98it/s]"
     ]
    },
    {
     "name": "stdout",
     "output_type": "stream",
     "text": [
      "There was an ERROR: Probably your internet connection                   isn't working\n"
     ]
    },
    {
     "name": "stderr",
     "output_type": "stream",
     "text": [
      "\r",
      " 93%|█████████▎| 1005/1086 [12:59<00:27,  2.98it/s]"
     ]
    },
    {
     "name": "stdout",
     "output_type": "stream",
     "text": [
      "There was an ERROR: Probably your internet connection                   isn't working\n"
     ]
    },
    {
     "name": "stderr",
     "output_type": "stream",
     "text": [
      "\r",
      " 93%|█████████▎| 1006/1086 [13:00<00:34,  2.31it/s]"
     ]
    },
    {
     "name": "stdout",
     "output_type": "stream",
     "text": [
      "There was an ERROR: Probably your internet connection                   isn't working\n"
     ]
    },
    {
     "name": "stderr",
     "output_type": "stream",
     "text": [
      "\r",
      " 93%|█████████▎| 1007/1086 [13:01<00:46,  1.70it/s]"
     ]
    },
    {
     "name": "stdout",
     "output_type": "stream",
     "text": [
      "There was an ERROR: Probably your internet connection                   isn't working\n",
      "There was an ERROR: Probably your internet connection                   isn't working\n"
     ]
    },
    {
     "name": "stderr",
     "output_type": "stream",
     "text": [
      "\r",
      " 93%|█████████▎| 1009/1086 [13:01<00:40,  1.91it/s]"
     ]
    },
    {
     "name": "stdout",
     "output_type": "stream",
     "text": [
      "There was an ERROR: Probably your internet connection                   isn't working\n"
     ]
    },
    {
     "name": "stderr",
     "output_type": "stream",
     "text": [
      "\r",
      " 93%|█████████▎| 1010/1086 [13:02<00:34,  2.22it/s]"
     ]
    },
    {
     "name": "stdout",
     "output_type": "stream",
     "text": [
      "There was an ERROR: Probably your internet connection                   isn't working\n"
     ]
    },
    {
     "name": "stderr",
     "output_type": "stream",
     "text": [
      "\r",
      " 93%|█████████▎| 1011/1086 [13:02<00:31,  2.42it/s]"
     ]
    },
    {
     "name": "stdout",
     "output_type": "stream",
     "text": [
      "There was an ERROR: Probably your internet connection                   isn't working\n"
     ]
    },
    {
     "name": "stderr",
     "output_type": "stream",
     "text": [
      "\r",
      " 93%|█████████▎| 1012/1086 [13:02<00:29,  2.52it/s]"
     ]
    },
    {
     "name": "stdout",
     "output_type": "stream",
     "text": [
      "There was an ERROR: Probably your internet connection                   isn't working\n"
     ]
    },
    {
     "name": "stderr",
     "output_type": "stream",
     "text": [
      "\r",
      " 93%|█████████▎| 1013/1086 [13:02<00:24,  2.98it/s]"
     ]
    },
    {
     "name": "stdout",
     "output_type": "stream",
     "text": [
      "There was an ERROR: Probably your internet connection                   isn't working\n"
     ]
    },
    {
     "name": "stderr",
     "output_type": "stream",
     "text": [
      "\r",
      " 93%|█████████▎| 1014/1086 [13:03<00:31,  2.32it/s]"
     ]
    },
    {
     "name": "stdout",
     "output_type": "stream",
     "text": [
      "There was an ERROR: Probably your internet connection                   isn't working\n"
     ]
    },
    {
     "name": "stderr",
     "output_type": "stream",
     "text": [
      "\r",
      " 93%|█████████▎| 1015/1086 [13:03<00:27,  2.58it/s]"
     ]
    },
    {
     "name": "stdout",
     "output_type": "stream",
     "text": [
      "There was an ERROR: Probably your internet connection                   isn't working\n"
     ]
    },
    {
     "name": "stderr",
     "output_type": "stream",
     "text": [
      "\r",
      " 94%|█████████▎| 1016/1086 [13:04<00:26,  2.67it/s]"
     ]
    },
    {
     "name": "stdout",
     "output_type": "stream",
     "text": [
      "There was an ERROR: Probably your internet connection                   isn't working\n",
      "There was an ERROR: Probably your internet connection                   isn't working\n"
     ]
    },
    {
     "name": "stderr",
     "output_type": "stream",
     "text": [
      "\r",
      " 94%|█████████▎| 1018/1086 [13:05<00:26,  2.57it/s]"
     ]
    },
    {
     "name": "stdout",
     "output_type": "stream",
     "text": [
      "There was an ERROR: Probably your internet connection                   isn't working\n"
     ]
    },
    {
     "name": "stderr",
     "output_type": "stream",
     "text": [
      "\r",
      " 94%|█████████▍| 1019/1086 [13:06<00:37,  1.79it/s]"
     ]
    },
    {
     "name": "stdout",
     "output_type": "stream",
     "text": [
      "There was an ERROR: Probably your internet connection                   isn't working\n"
     ]
    },
    {
     "name": "stderr",
     "output_type": "stream",
     "text": [
      "\r",
      " 94%|█████████▍| 1020/1086 [13:07<00:47,  1.38it/s]"
     ]
    },
    {
     "name": "stdout",
     "output_type": "stream",
     "text": [
      "There was an ERROR: Probably your internet connection                   isn't working\n"
     ]
    },
    {
     "name": "stderr",
     "output_type": "stream",
     "text": [
      "\r",
      " 94%|█████████▍| 1021/1086 [13:07<00:41,  1.58it/s]"
     ]
    },
    {
     "name": "stdout",
     "output_type": "stream",
     "text": [
      "There was an ERROR: Probably your internet connection                   isn't working\n",
      "There was an ERROR: Probably your internet connection                   isn't working\n"
     ]
    },
    {
     "name": "stderr",
     "output_type": "stream",
     "text": [
      "\r",
      " 94%|█████████▍| 1023/1086 [13:11<01:03,  1.01s/it]"
     ]
    },
    {
     "name": "stdout",
     "output_type": "stream",
     "text": [
      "There was an ERROR: Probably your internet connection                   isn't working\n"
     ]
    },
    {
     "name": "stderr",
     "output_type": "stream",
     "text": [
      "\r",
      " 94%|█████████▍| 1024/1086 [13:12<01:02,  1.01s/it]"
     ]
    },
    {
     "name": "stdout",
     "output_type": "stream",
     "text": [
      "There was an ERROR: Probably your internet connection                   isn't working\n"
     ]
    },
    {
     "name": "stderr",
     "output_type": "stream",
     "text": [
      "\r",
      " 94%|█████████▍| 1025/1086 [13:13<00:58,  1.05it/s]"
     ]
    },
    {
     "name": "stdout",
     "output_type": "stream",
     "text": [
      "There was an ERROR: Probably your internet connection                   isn't working\n"
     ]
    },
    {
     "name": "stderr",
     "output_type": "stream",
     "text": [
      "\r",
      " 94%|█████████▍| 1026/1086 [13:16<01:35,  1.58s/it]"
     ]
    },
    {
     "name": "stdout",
     "output_type": "stream",
     "text": [
      "There was an ERROR: Probably your internet connection                   isn't working\n"
     ]
    },
    {
     "name": "stderr",
     "output_type": "stream",
     "text": [
      "\r",
      " 95%|█████████▍| 1027/1086 [13:17<01:23,  1.42s/it]"
     ]
    },
    {
     "name": "stdout",
     "output_type": "stream",
     "text": [
      "There was an ERROR: Probably your internet connection                   isn't working\n"
     ]
    },
    {
     "name": "stderr",
     "output_type": "stream",
     "text": [
      "\r",
      " 95%|█████████▍| 1028/1086 [13:18<01:21,  1.40s/it]"
     ]
    },
    {
     "name": "stdout",
     "output_type": "stream",
     "text": [
      "There was an ERROR: Probably your internet connection                   isn't working\n"
     ]
    },
    {
     "name": "stderr",
     "output_type": "stream",
     "text": [
      "\r",
      " 95%|█████████▍| 1029/1086 [13:19<01:02,  1.10s/it]"
     ]
    },
    {
     "name": "stdout",
     "output_type": "stream",
     "text": [
      "There was an ERROR: Probably your internet connection                   isn't working\n"
     ]
    },
    {
     "name": "stderr",
     "output_type": "stream",
     "text": [
      "\r",
      " 95%|█████████▍| 1030/1086 [13:19<00:57,  1.03s/it]"
     ]
    },
    {
     "name": "stdout",
     "output_type": "stream",
     "text": [
      "There was an ERROR: Probably your internet connection                   isn't working\n"
     ]
    },
    {
     "name": "stderr",
     "output_type": "stream",
     "text": [
      "\r",
      " 95%|█████████▍| 1031/1086 [13:25<02:05,  2.28s/it]"
     ]
    },
    {
     "name": "stdout",
     "output_type": "stream",
     "text": [
      "There was an ERROR: Probably your internet connection                   isn't working\n"
     ]
    },
    {
     "name": "stderr",
     "output_type": "stream",
     "text": [
      "\r",
      " 95%|█████████▌| 1032/1086 [13:26<01:43,  1.91s/it]"
     ]
    },
    {
     "name": "stdout",
     "output_type": "stream",
     "text": [
      "There was an ERROR: Probably your internet connection                   isn't working\n"
     ]
    },
    {
     "name": "stderr",
     "output_type": "stream",
     "text": [
      "\r",
      " 95%|█████████▌| 1033/1086 [13:27<01:24,  1.60s/it]"
     ]
    },
    {
     "name": "stdout",
     "output_type": "stream",
     "text": [
      "There was an ERROR: Probably your internet connection                   isn't working\n"
     ]
    },
    {
     "name": "stderr",
     "output_type": "stream",
     "text": [
      "\r",
      " 95%|█████████▌| 1034/1086 [13:29<01:33,  1.80s/it]"
     ]
    },
    {
     "name": "stdout",
     "output_type": "stream",
     "text": [
      "There was an ERROR: Probably your internet connection                   isn't working\n"
     ]
    },
    {
     "name": "stderr",
     "output_type": "stream",
     "text": [
      "\r",
      " 95%|█████████▌| 1035/1086 [13:29<01:12,  1.43s/it]"
     ]
    },
    {
     "name": "stdout",
     "output_type": "stream",
     "text": [
      "There was an ERROR: Probably your internet connection                   isn't working\n"
     ]
    },
    {
     "name": "stderr",
     "output_type": "stream",
     "text": [
      "\r",
      " 95%|█████████▌| 1036/1086 [13:30<00:55,  1.11s/it]"
     ]
    },
    {
     "name": "stdout",
     "output_type": "stream",
     "text": [
      "There was an ERROR: Probably your internet connection                   isn't working\n"
     ]
    },
    {
     "name": "stderr",
     "output_type": "stream",
     "text": [
      "\r",
      " 95%|█████████▌| 1037/1086 [13:30<00:41,  1.19it/s]"
     ]
    },
    {
     "name": "stdout",
     "output_type": "stream",
     "text": [
      "There was an ERROR: Probably your internet connection                   isn't working\n"
     ]
    },
    {
     "name": "stderr",
     "output_type": "stream",
     "text": [
      "\r",
      " 96%|█████████▌| 1038/1086 [13:30<00:33,  1.42it/s]"
     ]
    },
    {
     "name": "stdout",
     "output_type": "stream",
     "text": [
      "There was an ERROR: Probably your internet connection                   isn't working\n"
     ]
    },
    {
     "name": "stderr",
     "output_type": "stream",
     "text": [
      "\r",
      " 96%|█████████▌| 1039/1086 [13:31<00:33,  1.41it/s]"
     ]
    },
    {
     "name": "stdout",
     "output_type": "stream",
     "text": [
      "There was an ERROR: Probably your internet connection                   isn't working\n"
     ]
    },
    {
     "name": "stderr",
     "output_type": "stream",
     "text": [
      "\r",
      " 96%|█████████▌| 1040/1086 [13:31<00:24,  1.86it/s]"
     ]
    },
    {
     "name": "stdout",
     "output_type": "stream",
     "text": [
      "There was an ERROR: Probably your internet connection                   isn't working\n",
      "There was an ERROR: Probably your internet connection                   isn't working\n"
     ]
    },
    {
     "name": "stderr",
     "output_type": "stream",
     "text": [
      "\r",
      " 96%|█████████▌| 1042/1086 [13:32<00:20,  2.20it/s]"
     ]
    },
    {
     "name": "stdout",
     "output_type": "stream",
     "text": [
      "There was an ERROR: Probably your internet connection                   isn't working\n"
     ]
    },
    {
     "name": "stderr",
     "output_type": "stream",
     "text": [
      "\r",
      " 96%|█████████▌| 1043/1086 [13:32<00:17,  2.49it/s]"
     ]
    },
    {
     "name": "stdout",
     "output_type": "stream",
     "text": [
      "There was an ERROR: Probably your internet connection                   isn't working\n"
     ]
    },
    {
     "name": "stderr",
     "output_type": "stream",
     "text": [
      "\r",
      " 96%|█████████▌| 1044/1086 [13:33<00:19,  2.21it/s]"
     ]
    },
    {
     "name": "stdout",
     "output_type": "stream",
     "text": [
      "There was an ERROR: Probably your internet connection                   isn't working\n",
      "There was an ERROR: Probably your internet connection                   isn't working\n"
     ]
    },
    {
     "name": "stderr",
     "output_type": "stream",
     "text": [
      "\r",
      " 96%|█████████▋| 1046/1086 [13:33<00:13,  3.00it/s]"
     ]
    },
    {
     "name": "stdout",
     "output_type": "stream",
     "text": [
      "There was an ERROR: Probably your internet connection                   isn't working\n",
      "There was an ERROR: Probably your internet connection                   isn't working\n"
     ]
    },
    {
     "name": "stderr",
     "output_type": "stream",
     "text": [
      "\r",
      " 97%|█████████▋| 1048/1086 [13:33<00:11,  3.18it/s]"
     ]
    },
    {
     "name": "stdout",
     "output_type": "stream",
     "text": [
      "There was an ERROR: Probably your internet connection                   isn't working\n",
      "There was an ERROR: Probably your internet connection                   isn't working\n"
     ]
    },
    {
     "name": "stderr",
     "output_type": "stream",
     "text": [
      "\r",
      " 97%|█████████▋| 1050/1086 [13:34<00:13,  2.69it/s]"
     ]
    },
    {
     "name": "stdout",
     "output_type": "stream",
     "text": [
      "There was an ERROR: Probably your internet connection                   isn't working\n"
     ]
    },
    {
     "name": "stderr",
     "output_type": "stream",
     "text": [
      "\r",
      " 97%|█████████▋| 1051/1086 [13:35<00:12,  2.81it/s]"
     ]
    },
    {
     "name": "stdout",
     "output_type": "stream",
     "text": [
      "There was an ERROR: Probably your internet connection                   isn't working\n"
     ]
    },
    {
     "name": "stderr",
     "output_type": "stream",
     "text": [
      "\r",
      " 97%|█████████▋| 1052/1086 [13:35<00:11,  2.87it/s]"
     ]
    },
    {
     "name": "stdout",
     "output_type": "stream",
     "text": [
      "There was an ERROR: Probably your internet connection                   isn't working\n"
     ]
    },
    {
     "name": "stderr",
     "output_type": "stream",
     "text": [
      "\r",
      " 97%|█████████▋| 1053/1086 [13:35<00:12,  2.74it/s]"
     ]
    },
    {
     "name": "stdout",
     "output_type": "stream",
     "text": [
      "There was an ERROR: Probably your internet connection                   isn't working\n"
     ]
    },
    {
     "name": "stderr",
     "output_type": "stream",
     "text": [
      "\r",
      " 97%|█████████▋| 1054/1086 [13:36<00:12,  2.58it/s]"
     ]
    },
    {
     "name": "stdout",
     "output_type": "stream",
     "text": [
      "There was an ERROR: Probably your internet connection                   isn't working\n",
      "There was an ERROR: Probably your internet connection                   isn't working\n"
     ]
    },
    {
     "name": "stderr",
     "output_type": "stream",
     "text": [
      "\r",
      " 97%|█████████▋| 1056/1086 [13:37<00:12,  2.40it/s]"
     ]
    },
    {
     "name": "stdout",
     "output_type": "stream",
     "text": [
      "There was an ERROR: Probably your internet connection                   isn't working\n"
     ]
    },
    {
     "name": "stderr",
     "output_type": "stream",
     "text": [
      "\r",
      " 97%|█████████▋| 1057/1086 [13:37<00:11,  2.50it/s]"
     ]
    },
    {
     "name": "stdout",
     "output_type": "stream",
     "text": [
      "There was an ERROR: Probably your internet connection                   isn't working\n"
     ]
    },
    {
     "name": "stderr",
     "output_type": "stream",
     "text": [
      "\r",
      " 97%|█████████▋| 1058/1086 [13:38<00:14,  1.87it/s]"
     ]
    },
    {
     "name": "stdout",
     "output_type": "stream",
     "text": [
      "There was an ERROR: Probably your internet connection                   isn't working\n"
     ]
    },
    {
     "name": "stderr",
     "output_type": "stream",
     "text": [
      "\r",
      " 98%|█████████▊| 1059/1086 [13:38<00:11,  2.32it/s]"
     ]
    },
    {
     "name": "stdout",
     "output_type": "stream",
     "text": [
      "There was an ERROR: Probably your internet connection                   isn't working\n"
     ]
    },
    {
     "name": "stderr",
     "output_type": "stream",
     "text": [
      "\r",
      " 98%|█████████▊| 1060/1086 [13:38<00:09,  2.66it/s]"
     ]
    },
    {
     "name": "stdout",
     "output_type": "stream",
     "text": [
      "There was an ERROR: Probably your internet connection                   isn't working\n",
      "There was an ERROR: Probably your internet connection                   isn't working\n"
     ]
    },
    {
     "name": "stderr",
     "output_type": "stream",
     "text": [
      "\r",
      " 98%|█████████▊| 1062/1086 [13:39<00:10,  2.35it/s]"
     ]
    },
    {
     "name": "stdout",
     "output_type": "stream",
     "text": [
      "There was an ERROR: Probably your internet connection                   isn't working\n"
     ]
    },
    {
     "name": "stderr",
     "output_type": "stream",
     "text": [
      "\r",
      " 98%|█████████▊| 1063/1086 [13:41<00:14,  1.54it/s]"
     ]
    },
    {
     "name": "stdout",
     "output_type": "stream",
     "text": [
      "There was an ERROR: Probably your internet connection                   isn't working\n"
     ]
    },
    {
     "name": "stderr",
     "output_type": "stream",
     "text": [
      "\r",
      " 98%|█████████▊| 1064/1086 [13:41<00:13,  1.58it/s]"
     ]
    },
    {
     "name": "stdout",
     "output_type": "stream",
     "text": [
      "There was an ERROR: Probably your internet connection                   isn't working\n"
     ]
    },
    {
     "name": "stderr",
     "output_type": "stream",
     "text": [
      "\r",
      " 98%|█████████▊| 1065/1086 [13:41<00:10,  2.05it/s]"
     ]
    },
    {
     "name": "stdout",
     "output_type": "stream",
     "text": [
      "There was an ERROR: Probably your internet connection                   isn't working\n"
     ]
    },
    {
     "name": "stderr",
     "output_type": "stream",
     "text": [
      "\r",
      " 98%|█████████▊| 1066/1086 [13:42<00:10,  1.89it/s]"
     ]
    },
    {
     "name": "stdout",
     "output_type": "stream",
     "text": [
      "There was an ERROR: Probably your internet connection                   isn't working\n"
     ]
    },
    {
     "name": "stderr",
     "output_type": "stream",
     "text": [
      "\r",
      " 98%|█████████▊| 1067/1086 [13:42<00:09,  2.03it/s]"
     ]
    },
    {
     "name": "stdout",
     "output_type": "stream",
     "text": [
      "There was an ERROR: Probably your internet connection                   isn't working\n"
     ]
    },
    {
     "name": "stderr",
     "output_type": "stream",
     "text": [
      "\r",
      " 98%|█████████▊| 1068/1086 [13:43<00:08,  2.22it/s]"
     ]
    },
    {
     "name": "stdout",
     "output_type": "stream",
     "text": [
      "There was an ERROR: Probably your internet connection                   isn't working\n"
     ]
    },
    {
     "name": "stderr",
     "output_type": "stream",
     "text": [
      "\r",
      " 98%|█████████▊| 1069/1086 [13:44<00:12,  1.35it/s]"
     ]
    },
    {
     "name": "stdout",
     "output_type": "stream",
     "text": [
      "There was an ERROR: Probably your internet connection                   isn't working\n"
     ]
    },
    {
     "name": "stderr",
     "output_type": "stream",
     "text": [
      "\r",
      " 99%|█████████▊| 1070/1086 [13:45<00:10,  1.46it/s]"
     ]
    },
    {
     "name": "stdout",
     "output_type": "stream",
     "text": [
      "There was an ERROR: Probably your internet connection                   isn't working\n"
     ]
    },
    {
     "name": "stderr",
     "output_type": "stream",
     "text": [
      "\r",
      " 99%|█████████▊| 1071/1086 [13:47<00:17,  1.18s/it]"
     ]
    },
    {
     "name": "stdout",
     "output_type": "stream",
     "text": [
      "There was an ERROR: Probably your internet connection                   isn't working\n"
     ]
    },
    {
     "name": "stderr",
     "output_type": "stream",
     "text": [
      "\r",
      " 99%|█████████▊| 1072/1086 [13:48<00:16,  1.15s/it]"
     ]
    },
    {
     "name": "stdout",
     "output_type": "stream",
     "text": [
      "There was an ERROR: Probably your internet connection                   isn't working\n"
     ]
    },
    {
     "name": "stderr",
     "output_type": "stream",
     "text": [
      "\r",
      " 99%|█████████▉| 1073/1086 [13:49<00:14,  1.12s/it]"
     ]
    },
    {
     "name": "stdout",
     "output_type": "stream",
     "text": [
      "There was an ERROR: Probably your internet connection                   isn't working\n"
     ]
    },
    {
     "name": "stderr",
     "output_type": "stream",
     "text": [
      "\r",
      " 99%|█████████▉| 1074/1086 [13:52<00:19,  1.64s/it]"
     ]
    },
    {
     "name": "stdout",
     "output_type": "stream",
     "text": [
      "There was an ERROR: Probably your internet connection                   isn't working\n"
     ]
    },
    {
     "name": "stderr",
     "output_type": "stream",
     "text": [
      "\r",
      " 99%|█████████▉| 1075/1086 [13:53<00:16,  1.54s/it]"
     ]
    },
    {
     "name": "stdout",
     "output_type": "stream",
     "text": [
      "There was an ERROR: Probably your internet connection                   isn't working\n"
     ]
    },
    {
     "name": "stderr",
     "output_type": "stream",
     "text": [
      "\r",
      " 99%|█████████▉| 1076/1086 [13:54<00:12,  1.26s/it]"
     ]
    },
    {
     "name": "stdout",
     "output_type": "stream",
     "text": [
      "There was an ERROR: Probably your internet connection                   isn't working\n"
     ]
    },
    {
     "name": "stderr",
     "output_type": "stream",
     "text": [
      "\r",
      " 99%|█████████▉| 1077/1086 [13:55<00:10,  1.17s/it]"
     ]
    },
    {
     "name": "stdout",
     "output_type": "stream",
     "text": [
      "There was an ERROR: Probably your internet connection                   isn't working\n"
     ]
    },
    {
     "name": "stderr",
     "output_type": "stream",
     "text": [
      "\r",
      " 99%|█████████▉| 1078/1086 [13:58<00:13,  1.74s/it]"
     ]
    },
    {
     "name": "stdout",
     "output_type": "stream",
     "text": [
      "There was an ERROR: Probably your internet connection                   isn't working\n"
     ]
    },
    {
     "name": "stderr",
     "output_type": "stream",
     "text": [
      "\r",
      " 99%|█████████▉| 1079/1086 [14:02<00:16,  2.39s/it]"
     ]
    },
    {
     "name": "stdout",
     "output_type": "stream",
     "text": [
      "There was an ERROR: Probably your internet connection                   isn't working\n"
     ]
    },
    {
     "name": "stderr",
     "output_type": "stream",
     "text": [
      "\r",
      " 99%|█████████▉| 1080/1086 [14:02<00:10,  1.71s/it]"
     ]
    },
    {
     "name": "stdout",
     "output_type": "stream",
     "text": [
      "There was an ERROR: Probably your internet connection                   isn't working\n"
     ]
    },
    {
     "name": "stderr",
     "output_type": "stream",
     "text": [
      "\r",
      "100%|█████████▉| 1081/1086 [14:02<00:06,  1.27s/it]"
     ]
    },
    {
     "name": "stdout",
     "output_type": "stream",
     "text": [
      "There was an ERROR: Probably your internet connection                   isn't working\n"
     ]
    },
    {
     "name": "stderr",
     "output_type": "stream",
     "text": [
      "\r",
      "100%|█████████▉| 1082/1086 [14:03<00:04,  1.24s/it]"
     ]
    },
    {
     "name": "stdout",
     "output_type": "stream",
     "text": [
      "There was an ERROR: Probably your internet connection                   isn't working\n"
     ]
    },
    {
     "name": "stderr",
     "output_type": "stream",
     "text": [
      "\r",
      "100%|█████████▉| 1083/1086 [14:04<00:02,  1.03it/s]"
     ]
    },
    {
     "name": "stdout",
     "output_type": "stream",
     "text": [
      "There was an ERROR: Probably your internet connection                   isn't working\n"
     ]
    },
    {
     "name": "stderr",
     "output_type": "stream",
     "text": [
      "\r",
      "100%|█████████▉| 1084/1086 [14:05<00:02,  1.12s/it]"
     ]
    },
    {
     "name": "stdout",
     "output_type": "stream",
     "text": [
      "There was an ERROR: Probably your internet connection                   isn't working\n"
     ]
    },
    {
     "name": "stderr",
     "output_type": "stream",
     "text": [
      "\r",
      "100%|█████████▉| 1085/1086 [14:07<00:01,  1.33s/it]"
     ]
    },
    {
     "name": "stdout",
     "output_type": "stream",
     "text": [
      "There was an ERROR: Probably your internet connection                   isn't working\n"
     ]
    },
    {
     "name": "stderr",
     "output_type": "stream",
     "text": [
      "                                                   \r"
     ]
    }
   ],
   "source": [
    "# From command line execute following command\n",
    "# python makemytrip.py \n",
    "\n",
    "import urllib.request, urllib.error, urllib.parse\n",
    "from urllib.request import urlretrieve\n",
    "import json\n",
    "import sys \n",
    "import re\n",
    "#import datetime\n",
    "from datetime import date, time, datetime\n",
    "#from datetime import datetime, date, time\n",
    "#import mapping as city\n",
    "import pickle\n",
    "from dateutil.rrule import rrule, DAILY\n",
    "import tqdm\n",
    "from functools import partial\n",
    "from datetime import date, datetime, timedelta\n",
    "import time\n",
    "import multiprocessing\n",
    "import os\n",
    "\n",
    "BASE_URL=\"http://flights.makemytrip.com/makemytrip/\"\n",
    "\n",
    "class MakeMyTrip(object):\n",
    "    \n",
    "    def __init__(self):\n",
    "        self.url_browse = \"\"\n",
    "        self.flights_data = \"\"\n",
    "        self.stoppage = \"\"\n",
    "        self.arrival_time = \"\"\n",
    "        self.trip_json = []\n",
    "        \n",
    "    def browse(self, url=\"\", roundtrip=False):\n",
    "        #This Prints the url being retrived. Not required for complete autonomous mode\n",
    "        #print(url)\n",
    "        try:\n",
    "            self.url_browse = urllib.request.urlopen(url).read()\n",
    "        except urllib.error.HTTPError:  \n",
    "            print(\"There was an ERROR: Probably your internet connection \\\n",
    "                  isn't working\")\n",
    "            return 1\n",
    "        urlretrieve(url, 'out.txt')\n",
    "        i = 0\n",
    "        fil = open(\"out.txt\",\"r\")\n",
    "        if roundtrip:\n",
    "            json_list = json.loads(fil.read())\n",
    "            #print json_list#['filterData']\n",
    "            print(\"-\"*50)\n",
    "            json_list = json.loads(json_list['fd'])\n",
    "            return json_list\n",
    "        for line in fil.readlines():\n",
    "            i = i+1\n",
    "            if \"flightsData\" in line:\n",
    "                self.flights_data = line\n",
    "                break\n",
    "        temp_flights_data = self.flights_data.replace(\"var flightsData = \",\"\").strip()\n",
    "        temp_flights_data = temp_flights_data[:-1]\n",
    "        fil = open(\"out.txt\",\"w\")\n",
    "        fil.write(temp_flights_data)\n",
    "        fil.close()\n",
    "        try :\n",
    "            json_list = json.loads(temp_flights_data)\n",
    "        except ValueError : \n",
    "            json_list = 1\n",
    "        return json_list\n",
    "    \n",
    "    def create_json_oneway(self, dump_list):\n",
    "        for i in range(len(dump_list)):\n",
    "            temp = '{ \"airline\" : \"' + dump_list[i]['le'][0]['an'] + '\"'\n",
    "            temp = temp + ', \"price\" : \"' + str(dump_list[i]['af']) + '\"'\n",
    "            temp = temp + ', \"total_time\" : \"' + str(dump_list[i]['td']) + '\"'\n",
    "            temp = temp + ', \"depart_date\" : \"' + str(dump_list[i]['le'][0]['fd']) + '\"'\n",
    "            temp = temp + ', \"depart_time\" : \"' + str(dump_list[i]['le'][0]['fdt']) + '\"'\n",
    "            temp_dump_list = dump_list[i]['le']\n",
    "            for x in range(len(temp_dump_list)):\n",
    "                if x == (len(temp_dump_list)-1):\n",
    "                    temp = temp + ', \"arrival_date\" : \"' + str(temp_dump_list[x]['fa']) + '\"'\n",
    "                    temp = temp + ', \"arrival_time\" : \"' + str(temp_dump_list[x]['fat']) + '\"}'\n",
    "            self.trip_json.append(temp)\n",
    "        return json.dumps(self.trip_json)\n",
    "        \n",
    "    def create_json_roundtrip(self, dump_list):\n",
    "        #Todo : Complete this function to return the custom JSON as response \n",
    "        for i in range(len(dump_list)):\n",
    "            return json.loads(['fd'])\n",
    "        \n",
    "    def journey_oneway(self, origin, destination, depart_date, fare_class, adult=1, children=0, infant=0):\n",
    "        adult = str(adult) if adult >= 1 else \"1\"\n",
    "        children = str(children) if children >= 1 else str(children)\n",
    "        infant = str(infant) if infant >= 1 else str(infant)\n",
    "        new_url = BASE_URL + \"search/O/O/\"+fare_class+\"/\" + adult +\"/\" + children + \"/\" + infant + \"/S/V0/\" + origin + \"_\" + destination + \"_\" + depart_date\n",
    "        return self.browse(new_url)\n",
    "    \n",
    "    def journey_roundtrip(self, origin, destination, depart_date, return_date, adult=1, children=0, infant=0):\n",
    "        new_url = BASE_URL + 'splitRTDataService.json?classType=E&deptDate=' + depart_date + '&fltMap=&fromCity='+ origin + '&noOfAdlts=' + str(adult) + \\\n",
    "        '&noOfChd=' + str(children) + '&noOfInfnt=' + str(infant) + '&returnDate=' + return_date + '&toCity=' + destination + '&tripType=R&tripTypeDup=R'\n",
    "        return self.browse(new_url, True)\n",
    "        \n",
    "    #Todo: Get rid of this method\n",
    "    def read_line(self):\n",
    "        flights_data=\"\"\n",
    "        i = 0\n",
    "        fil = open(\"out.txt\",\"r\")\n",
    "        for line in fil.readlines():\n",
    "            i = i+1\n",
    "            if \"flightsData\" in line:\n",
    "                flights_data = line\n",
    "        #print \"Total lines\",i\n",
    "        self.format_flights_data(flights_data)\n",
    "        #self.getFlightTable(flights_data)\n",
    "        \n",
    "    #Todo: Get rid of this method\n",
    "    def format_flights_data(self, flights_data):\n",
    "        new_flights_data = flights_data.replace(\"var flightsData = \",\"\").strip()\n",
    "        new_flights_data = new_flights_data[:-1]\n",
    "        fil = open(\"out.txt\",\"wb\")\n",
    "        fil.write(new_flights_data)\n",
    "        fil.close()\n",
    "        d = new_flights_data\n",
    "        li = json.loads(d)\n",
    "        self.create_json_oneway(li)\n",
    "        #print type(new_flights_data)\n",
    "            \n",
    "    def get_extra_detail(self, flights_data):\n",
    "        #date_size=len(flights_data)\n",
    "        halt = flights_data[0]['f']\n",
    "        layover = \"\"\n",
    "        for x in range(len(flights_data)):\n",
    "            halt = halt + \"   \\u2708   \" + flights_data[x]['t'] + \" ( \" + flights_data[x]['du'] + \" )\"\n",
    "            if x > 0:\n",
    "                layover = layover + flights_data[x]['f'] + \"  ( \" + flights_data[x]['lo'] + \" )  \"\n",
    "            if x == (len(flights_data)-1):\n",
    "                self.arrival_time = flights_data[x]['fa'] + \" \" +flights_data[x]['fat']\n",
    "        print(halt)\n",
    "        return layover\n",
    "        #return halt\n",
    "        \n",
    "    def print_json(self, l):\n",
    "        \n",
    "        tmp_size = len(l)\n",
    "        for i in range(tmp_size):   \n",
    "            print(\"\")\n",
    "            print(\"\\033[1m\" + l[i]['le'][0]['an'] , \"\\033[0m      \\u20B9 \\033[92m\", l[i]['af'], \"\\033[0m  in  \", l[i]['td'])\n",
    "            layover=self.get_extra_detail(l[i]['le']) \n",
    "            #ToDo\n",
    "            print(l[i]['le'][0]['fd'],  l[i]['le'][0]['fdt'], \\\n",
    "             \"  --->>  \", self.arrival_time)\n",
    "            print(\"\\tStoppage : \", layover)\n",
    "            #print \"Arrival : \", l[i]['le'][0]['fa'], l[i]['le'][0]['fat']\n",
    "            print(\"\\u2982\"*50)\n",
    "\n",
    " \n",
    " #To write the required files into json format\n",
    "\n",
    "    def file_json(self,l,destination, origin , flight_date):\n",
    "        os.makedirs(\"data\", exist_ok=True)\n",
    "        os.makedirs(\"data/data_raw\", exist_ok=True)\n",
    "        with open(f\"data/data_raw/price_data_retrived_{str(date.fromtimestamp(time.time()))}.csv\", \"a\") as f1:\n",
    "            if l == 1 :\n",
    "                taken_date = str(datetime.today().date())\n",
    "                f1.write(\"Origin\" + \",\" + \"Destination\" + \",\" + \"Dept_Date\" + \",\" + \"Dept_Time\" + \",\" + \"Arr_Time\" + \",\" + \"Total_Fare\" + \",\" + \"Base_Fare\" + \",\" + \"Fuel_Fare\" + \",\" + \"Airways\" + \",\" + \"Available\" + \",\" + \"Duration\" + \",\" + \"Class_Type\" + \",\" + \"Flight Number\" + \",\" + \"Flight Code\" + \",\" + \"FlightID\" + \",\" + \"Hopping\" + \",\" +\"Taken\" +\"\\n\")\n",
    "                f1.write(origin + \",\" + destination + \",\" + flight_date + \",\" + \"NA\" + \",\" + \"NA\" + \",\" + \"NA\" + \",\" + \"NA\" + \",\" + \"NA\" + \",\" + \"NA\" + \",\" + \"NA\" + \",\" + \"NA\" + \",\" + \"NA\" + \",\"+ \"NA\" + \",\" + \"NA\" + \",\" + \"NA\" + \",\" + \"NA\" + \",\"+ taken_date +\"\\n\")\n",
    "            else :\n",
    "                tmp_size = len(l)\n",
    "                f1.write(\"Origin\" + \",\" + \"Destination\" + \",\" + \"Dept_Date\" + \",\" + \"Dept_Time\" + \",\" + \"Arr_Time\" + \",\" + \"Total_Fare\" + \",\" + \"Base_Fare\" + \",\" + \"Fuel_Fare\" + \",\" + \"Airways\" + \",\" + \"Available\" + \",\" + \"Duration\" + \",\" + \"Class_Type\" + \",\" + \"Flight Number\"+ \",\" + \"Flight Code\" + \",\" + \"FlightID\" + \",\" + \"Hopping\" + \",\" +\"Taken\" +\"\\n\")\n",
    "                for i in range(tmp_size):  \n",
    "                    airways = l[i]['le'][0]['an'] \n",
    "                    fare = l[i]['af']\n",
    "                    deptdate = l[i]['le'][0]['dep']\n",
    "                    depttime = l[i]['le'][0]['fdt']\n",
    "                    arrtime = l[i]['le'][0]['fat']\n",
    "                    avail = l[i]['le'][0]['flightFare']['bookingClass']['availability']\n",
    "                    basefare = l[i]['le'][0]['flightFare']['baseFare']\n",
    "                    fuel_surcharge = l[i]['le'][0]['flightFare']['fuelSurcharge']\n",
    "                    duration = l[i]['td']\n",
    "                    origin = l[i]['le'][0]['o']\n",
    "                    desti = l[i]['le'][0]['d']\n",
    "                    class_type = l[i]['le'][0]['cls']\n",
    "                    flight_number = l[i]['le'][0]['fn']\n",
    "                    flight_code = l[i]['le'][0]['oc']\n",
    "                    Flight_ID = l[i]['fi']\n",
    "                    hopping = l[i]['hff']\n",
    "\n",
    "                    '''\n",
    "                    if hopping == True :\n",
    "                        arrtime = l[i]['le'][1]['fat']\n",
    "                    else :\n",
    "                        arrtime = l[i]['le'][0]['fat']\n",
    "                    '''\n",
    "                    taken_date = str(datetime.today().date())\n",
    "\n",
    "                    f1.write(origin + \",\" + desti + \",\" + deptdate + \",\" +\n",
    "                             depttime + \",\" + arrtime + \",\" + str(fare) + \",\" + str(basefare) +\n",
    "                             \",\" + str(fuel_surcharge) + \",\" +airways+ \",\" + avail + \",\"+duration +\n",
    "                             \",\" + class_type + \",\"+ flight_number + \",\" + flight_code + \",\"  +\n",
    "                             Flight_ID + \",\" + str(hopping) + \",\" +taken_date+  \"\\n\")\n",
    "\n",
    "if __name__==\"__main__\":\n",
    "    #Date as (yyyy, mm, dd)\n",
    "    till_date = date(2019, 5, 16)\n",
    "    time_period=till_date-date.today() #class datetime.timedelta\n",
    "    if time_period.days<180: till_date=date.today()+timedelta(180)\n",
    "        \n",
    "    origin_dest_pairs=[(\"BLR\", \"MAA\"), (\"BOM\", \"DEL\"), (\"BOM\", \"JAI\")]\n",
    "    fare_class=       [\"E\", \"B\"]\n",
    "    dept_dates=       [str(dt.strftime(\"%d-%m-%Y\")) for dt in \n",
    "                            rrule(DAILY, dtstart=date.fromtimestamp(time.time()), until=till_date)]\n",
    "    args_list=[(x,y,z) for x in origin_dest_pairs for y in fare_class for z in dept_dates]\n",
    "    \n",
    "    def download_data(args):\n",
    "        origin, destination=args[0]\n",
    "        fare_class=args[1]\n",
    "        dept_date=args[2]\n",
    "        bro = MakeMyTrip()\n",
    "        bro.file_json(bro.journey_oneway(origin,destination,dept_date,fare_class), destination, origin , dept_date)\n",
    "        \n",
    "        return 1\n",
    "    \n",
    "    pool = multiprocessing.Pool(processes=49)  # Num of Parallel Processes\n",
    "    _ = sum(tqdm.tqdm(pool.imap_unordered(download_data, args_list), total=len(args_list), leave=False))"
   ]
  },
  {
   "cell_type": "code",
   "execution_count": null,
   "metadata": {},
   "outputs": [],
   "source": []
  }
 ],
 "metadata": {
  "kernelspec": {
   "display_name": "Python 3",
   "language": "python",
   "name": "python3"
  },
  "language_info": {
   "codemirror_mode": {
    "name": "ipython",
    "version": 3
   },
   "file_extension": ".py",
   "mimetype": "text/x-python",
   "name": "python",
   "nbconvert_exporter": "python",
   "pygments_lexer": "ipython3",
   "version": "3.6.6"
  }
 },
 "nbformat": 4,
 "nbformat_minor": 2
}
